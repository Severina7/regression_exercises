{
 "cells": [
  {
   "cell_type": "markdown",
   "id": "a730bd15",
   "metadata": {},
   "source": [
    "# Exploration exercises"
   ]
  },
  {
   "cell_type": "code",
   "execution_count": 1,
   "id": "1d424a60",
   "metadata": {},
   "outputs": [],
   "source": [
    "import pandas as pd\n",
    "import numpy as np\n",
    "import matplotlib.pyplot as plt\n",
    "import scipy.stats\n",
    "\n",
    "import warnings\n",
    "warnings.filterwarnings('ignore')\n",
    "import seaborn as sns\n",
    "import wrangle"
   ]
  },
  {
   "cell_type": "code",
   "execution_count": 2,
   "id": "e6ee2df7",
   "metadata": {},
   "outputs": [],
   "source": [
    "train, validate, test = wrangle.wrangle_zillow()"
   ]
  },
  {
   "cell_type": "code",
   "execution_count": 3,
   "id": "1cd9fd5d",
   "metadata": {},
   "outputs": [
    {
     "data": {
      "text/html": [
       "<div>\n",
       "<style scoped>\n",
       "    .dataframe tbody tr th:only-of-type {\n",
       "        vertical-align: middle;\n",
       "    }\n",
       "\n",
       "    .dataframe tbody tr th {\n",
       "        vertical-align: top;\n",
       "    }\n",
       "\n",
       "    .dataframe thead th {\n",
       "        text-align: right;\n",
       "    }\n",
       "</style>\n",
       "<table border=\"1\" class=\"dataframe\">\n",
       "  <thead>\n",
       "    <tr style=\"text-align: right;\">\n",
       "      <th></th>\n",
       "      <th>bedrooms</th>\n",
       "      <th>bathrooms</th>\n",
       "      <th>indoor_sqft</th>\n",
       "      <th>tax_value</th>\n",
       "      <th>yearbuilt</th>\n",
       "      <th>tax_amount</th>\n",
       "      <th>fips</th>\n",
       "      <th>sale_date</th>\n",
       "    </tr>\n",
       "  </thead>\n",
       "  <tbody>\n",
       "    <tr>\n",
       "      <th>51735</th>\n",
       "      <td>3</td>\n",
       "      <td>3.0</td>\n",
       "      <td>2878</td>\n",
       "      <td>119273</td>\n",
       "      <td>1983</td>\n",
       "      <td>2264.63</td>\n",
       "      <td>6037</td>\n",
       "      <td>1505347200000000000</td>\n",
       "    </tr>\n",
       "    <tr>\n",
       "      <th>30756</th>\n",
       "      <td>3</td>\n",
       "      <td>2.0</td>\n",
       "      <td>1272</td>\n",
       "      <td>298739</td>\n",
       "      <td>1955</td>\n",
       "      <td>3877.47</td>\n",
       "      <td>6037</td>\n",
       "      <td>1497225600000000000</td>\n",
       "    </tr>\n",
       "    <tr>\n",
       "      <th>33234</th>\n",
       "      <td>3</td>\n",
       "      <td>2.0</td>\n",
       "      <td>1472</td>\n",
       "      <td>156485</td>\n",
       "      <td>1977</td>\n",
       "      <td>1531.40</td>\n",
       "      <td>6059</td>\n",
       "      <td>1498089600000000000</td>\n",
       "    </tr>\n",
       "    <tr>\n",
       "      <th>47705</th>\n",
       "      <td>4</td>\n",
       "      <td>2.0</td>\n",
       "      <td>1233</td>\n",
       "      <td>197034</td>\n",
       "      <td>1955</td>\n",
       "      <td>2305.46</td>\n",
       "      <td>6111</td>\n",
       "      <td>1503619200000000000</td>\n",
       "    </tr>\n",
       "    <tr>\n",
       "      <th>4895</th>\n",
       "      <td>4</td>\n",
       "      <td>3.0</td>\n",
       "      <td>1951</td>\n",
       "      <td>298610</td>\n",
       "      <td>1979</td>\n",
       "      <td>4174.00</td>\n",
       "      <td>6037</td>\n",
       "      <td>1485907200000000000</td>\n",
       "    </tr>\n",
       "  </tbody>\n",
       "</table>\n",
       "</div>"
      ],
      "text/plain": [
       "       bedrooms  bathrooms  indoor_sqft  tax_value  yearbuilt  tax_amount  \\\n",
       "51735         3        3.0         2878     119273       1983     2264.63   \n",
       "30756         3        2.0         1272     298739       1955     3877.47   \n",
       "33234         3        2.0         1472     156485       1977     1531.40   \n",
       "47705         4        2.0         1233     197034       1955     2305.46   \n",
       "4895          4        3.0         1951     298610       1979     4174.00   \n",
       "\n",
       "       fips            sale_date  \n",
       "51735  6037  1505347200000000000  \n",
       "30756  6037  1497225600000000000  \n",
       "33234  6059  1498089600000000000  \n",
       "47705  6111  1503619200000000000  \n",
       "4895   6037  1485907200000000000  "
      ]
     },
     "execution_count": 3,
     "metadata": {},
     "output_type": "execute_result"
    }
   ],
   "source": [
    "train.head()"
   ]
  }
 ],
 "metadata": {
  "kernelspec": {
   "display_name": "Python 3 (ipykernel)",
   "language": "python",
   "name": "python3"
  },
  "language_info": {
   "codemirror_mode": {
    "name": "ipython",
    "version": 3
   },
   "file_extension": ".py",
   "mimetype": "text/x-python",
   "name": "python",
   "nbconvert_exporter": "python",
   "pygments_lexer": "ipython3",
   "version": "3.9.7"
  }
 },
 "nbformat": 4,
 "nbformat_minor": 5
}
