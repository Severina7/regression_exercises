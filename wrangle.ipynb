{
 "cells": [
  {
   "cell_type": "code",
   "execution_count": 1,
   "id": "6856d4c5",
   "metadata": {},
   "outputs": [],
   "source": [
    "import pandas as pd\n",
    "import numpy as np\n",
    "import matplotlib.pyplot as plt\n",
    "import scipy.stats\n",
    "\n",
    "import os\n",
    "import acquire\n",
    "from env import host, user, password"
   ]
  },
  {
   "cell_type": "code",
   "execution_count": 2,
   "id": "949368d3",
   "metadata": {},
   "outputs": [],
   "source": [
    "import warnings\n",
    "warnings.filterwarnings('ignore')\n",
    "import seaborn as sns"
   ]
  },
  {
   "cell_type": "markdown",
   "id": "43f1d1b3",
   "metadata": {},
   "source": [
    "# <font color=“brown”>Goal</font>\n",
    "\n",
    "**My goal is to predict the values of single unit properties using the obervations from 2017 AKA the column  taxvaluedollarcnt rrenamed into TAXVALUE**"
   ]
  },
  {
   "cell_type": "markdown",
   "id": "359170bb",
   "metadata": {},
   "source": [
    "# Acquisition"
   ]
  },
  {
   "cell_type": "code",
   "execution_count": 3,
   "id": "2db2b2fe",
   "metadata": {},
   "outputs": [],
   "source": [
    "def get_connection(db, user=user, host=host, password=password):\n",
    "    '''\n",
    "    get_connection uses login info from env.py file to access Codeup db.\n",
    "    It takes in a string name of a database as an argument.\n",
    "    '''\n",
    "    return f'mysql+pymysql://{user}:{password}@{host}/{db}'"
   ]
  },
  {
   "cell_type": "markdown",
   "id": "5099ee65",
   "metadata": {},
   "source": [
    "**The columns I need**\n",
    "\n",
    "bedroomcnt, bathroomcnt, calculatedfinishedsquarefeet, taxvaluedollarcnt, yearbuilt, taxamount, fips, propertylandusetypeid"
   ]
  },
  {
   "cell_type": "code",
   "execution_count": 11,
   "id": "5be638d8",
   "metadata": {},
   "outputs": [],
   "source": [
    "def get_zillow_data():\n",
    "    '''\n",
    "    zillow_data() gets the zillow (only properties_2017 table) data from Codeup db, then writes it to a csv file,\n",
    "    and returns the df.\n",
    "    '''\n",
    "    # Creating a SQL query\n",
    "    sql_query = '''\n",
    "                SELECT \n",
    "                       bedroomcnt,\n",
    "                       bathroomcnt,\n",
    "                       calculatedfinishedsquarefeet,\n",
    "                       taxvaluedollarcnt,\n",
    "                       yearbuilt,\n",
    "                       taxamount,\n",
    "                       fips,\n",
    "                       propertylandusetypeid,\n",
    "                       transactiondate\n",
    "                FROM properties_2017\n",
    "                JOIN predictions_2017 USING(parcelid)\n",
    "                JOIN propertylandusetype USING(propertylandusetypeid)\n",
    "                WHERE propertylandusetypeid = '261'\n",
    "                '''\n",
    "    \n",
    "    # Reading in the DataFrame from Codeup db.\n",
    "    properties_2017 = pd.read_sql(sql_query, get_connection('zillow'))\n",
    "    return properties_2017"
   ]
  },
  {
   "cell_type": "code",
   "execution_count": 12,
   "id": "2d194e64",
   "metadata": {},
   "outputs": [],
   "source": [
    "def get_local_zillow():\n",
    "    '''\n",
    "    get_local_zillow reads in telco data from Codeup database, writes data to\n",
    "    a csv file if a local file does not exist, and returns a df.\n",
    "    '''\n",
    "    if os.path.isfile('properties_2017.csv'):\n",
    "        \n",
    "        # If csv file exists read in data from csv file.\n",
    "        properties_2017 = pd.read_csv('properties_2017.csv', index_col=0)\n",
    "        \n",
    "    else:\n",
    "        \n",
    "        # Read fresh data from db into a DataFrame\n",
    "        properties_2017 = get_zillow_data()\n",
    "        \n",
    "        # Cache data\n",
    "        properties_2017.to_csv('properties_2017.csv')\n",
    "        \n",
    "    return properties_2017"
   ]
  },
  {
   "cell_type": "code",
   "execution_count": 27,
   "id": "a33cab72",
   "metadata": {
    "scrolled": false
   },
   "outputs": [
    {
     "data": {
      "text/html": [
       "<div>\n",
       "<style scoped>\n",
       "    .dataframe tbody tr th:only-of-type {\n",
       "        vertical-align: middle;\n",
       "    }\n",
       "\n",
       "    .dataframe tbody tr th {\n",
       "        vertical-align: top;\n",
       "    }\n",
       "\n",
       "    .dataframe thead th {\n",
       "        text-align: right;\n",
       "    }\n",
       "</style>\n",
       "<table border=\"1\" class=\"dataframe\">\n",
       "  <thead>\n",
       "    <tr style=\"text-align: right;\">\n",
       "      <th></th>\n",
       "      <th>bedroomcnt</th>\n",
       "      <th>bathroomcnt</th>\n",
       "      <th>calculatedfinishedsquarefeet</th>\n",
       "      <th>taxvaluedollarcnt</th>\n",
       "      <th>yearbuilt</th>\n",
       "      <th>taxamount</th>\n",
       "      <th>fips</th>\n",
       "      <th>propertylandusetypeid</th>\n",
       "      <th>transactiondate</th>\n",
       "    </tr>\n",
       "  </thead>\n",
       "  <tbody>\n",
       "    <tr>\n",
       "      <th>0</th>\n",
       "      <td>4.0</td>\n",
       "      <td>3.5</td>\n",
       "      <td>3100.0</td>\n",
       "      <td>1023282.0</td>\n",
       "      <td>1998.0</td>\n",
       "      <td>11013.72</td>\n",
       "      <td>6059.0</td>\n",
       "      <td>261.0</td>\n",
       "      <td>2017-01-01</td>\n",
       "    </tr>\n",
       "    <tr>\n",
       "      <th>1</th>\n",
       "      <td>2.0</td>\n",
       "      <td>1.0</td>\n",
       "      <td>1465.0</td>\n",
       "      <td>464000.0</td>\n",
       "      <td>1967.0</td>\n",
       "      <td>5672.48</td>\n",
       "      <td>6111.0</td>\n",
       "      <td>261.0</td>\n",
       "      <td>2017-01-01</td>\n",
       "    </tr>\n",
       "    <tr>\n",
       "      <th>2</th>\n",
       "      <td>3.0</td>\n",
       "      <td>2.0</td>\n",
       "      <td>1243.0</td>\n",
       "      <td>564778.0</td>\n",
       "      <td>1962.0</td>\n",
       "      <td>6488.30</td>\n",
       "      <td>6059.0</td>\n",
       "      <td>261.0</td>\n",
       "      <td>2017-01-01</td>\n",
       "    </tr>\n",
       "    <tr>\n",
       "      <th>3</th>\n",
       "      <td>4.0</td>\n",
       "      <td>3.0</td>\n",
       "      <td>2376.0</td>\n",
       "      <td>145143.0</td>\n",
       "      <td>1970.0</td>\n",
       "      <td>1777.51</td>\n",
       "      <td>6037.0</td>\n",
       "      <td>261.0</td>\n",
       "      <td>2017-01-01</td>\n",
       "    </tr>\n",
       "    <tr>\n",
       "      <th>4</th>\n",
       "      <td>4.0</td>\n",
       "      <td>3.0</td>\n",
       "      <td>2962.0</td>\n",
       "      <td>773303.0</td>\n",
       "      <td>1950.0</td>\n",
       "      <td>9516.26</td>\n",
       "      <td>6037.0</td>\n",
       "      <td>261.0</td>\n",
       "      <td>2017-01-01</td>\n",
       "    </tr>\n",
       "    <tr>\n",
       "      <th>5</th>\n",
       "      <td>2.0</td>\n",
       "      <td>1.0</td>\n",
       "      <td>738.0</td>\n",
       "      <td>218552.0</td>\n",
       "      <td>1922.0</td>\n",
       "      <td>2366.08</td>\n",
       "      <td>6037.0</td>\n",
       "      <td>261.0</td>\n",
       "      <td>2017-01-01</td>\n",
       "    </tr>\n",
       "    <tr>\n",
       "      <th>6</th>\n",
       "      <td>4.0</td>\n",
       "      <td>3.0</td>\n",
       "      <td>3039.0</td>\n",
       "      <td>220583.0</td>\n",
       "      <td>1970.0</td>\n",
       "      <td>3104.19</td>\n",
       "      <td>6037.0</td>\n",
       "      <td>261.0</td>\n",
       "      <td>2017-01-02</td>\n",
       "    </tr>\n",
       "    <tr>\n",
       "      <th>7</th>\n",
       "      <td>4.0</td>\n",
       "      <td>3.0</td>\n",
       "      <td>2540.0</td>\n",
       "      <td>430108.0</td>\n",
       "      <td>1999.0</td>\n",
       "      <td>6103.36</td>\n",
       "      <td>6037.0</td>\n",
       "      <td>261.0</td>\n",
       "      <td>2017-01-02</td>\n",
       "    </tr>\n",
       "    <tr>\n",
       "      <th>8</th>\n",
       "      <td>3.0</td>\n",
       "      <td>2.5</td>\n",
       "      <td>1340.0</td>\n",
       "      <td>319668.0</td>\n",
       "      <td>1980.0</td>\n",
       "      <td>4078.08</td>\n",
       "      <td>6059.0</td>\n",
       "      <td>261.0</td>\n",
       "      <td>2017-01-02</td>\n",
       "    </tr>\n",
       "    <tr>\n",
       "      <th>9</th>\n",
       "      <td>3.0</td>\n",
       "      <td>2.5</td>\n",
       "      <td>1371.0</td>\n",
       "      <td>198054.0</td>\n",
       "      <td>2004.0</td>\n",
       "      <td>2204.84</td>\n",
       "      <td>6111.0</td>\n",
       "      <td>261.0</td>\n",
       "      <td>2017-01-02</td>\n",
       "    </tr>\n",
       "  </tbody>\n",
       "</table>\n",
       "</div>"
      ],
      "text/plain": [
       "   bedroomcnt  bathroomcnt  calculatedfinishedsquarefeet  taxvaluedollarcnt  \\\n",
       "0         4.0          3.5                        3100.0          1023282.0   \n",
       "1         2.0          1.0                        1465.0           464000.0   \n",
       "2         3.0          2.0                        1243.0           564778.0   \n",
       "3         4.0          3.0                        2376.0           145143.0   \n",
       "4         4.0          3.0                        2962.0           773303.0   \n",
       "5         2.0          1.0                         738.0           218552.0   \n",
       "6         4.0          3.0                        3039.0           220583.0   \n",
       "7         4.0          3.0                        2540.0           430108.0   \n",
       "8         3.0          2.5                        1340.0           319668.0   \n",
       "9         3.0          2.5                        1371.0           198054.0   \n",
       "\n",
       "   yearbuilt  taxamount    fips  propertylandusetypeid transactiondate  \n",
       "0     1998.0   11013.72  6059.0                  261.0      2017-01-01  \n",
       "1     1967.0    5672.48  6111.0                  261.0      2017-01-01  \n",
       "2     1962.0    6488.30  6059.0                  261.0      2017-01-01  \n",
       "3     1970.0    1777.51  6037.0                  261.0      2017-01-01  \n",
       "4     1950.0    9516.26  6037.0                  261.0      2017-01-01  \n",
       "5     1922.0    2366.08  6037.0                  261.0      2017-01-01  \n",
       "6     1970.0    3104.19  6037.0                  261.0      2017-01-02  \n",
       "7     1999.0    6103.36  6037.0                  261.0      2017-01-02  \n",
       "8     1980.0    4078.08  6059.0                  261.0      2017-01-02  \n",
       "9     2004.0    2204.84  6111.0                  261.0      2017-01-02  "
      ]
     },
     "execution_count": 27,
     "metadata": {},
     "output_type": "execute_result"
    }
   ],
   "source": [
    "# Getting a vue of the dataset\n",
    "\n",
    "properties_2017 = get_zillow_data()\n",
    "properties_2017.head(10)"
   ]
  },
  {
   "cell_type": "code",
   "execution_count": 14,
   "id": "2b772f9d",
   "metadata": {},
   "outputs": [],
   "source": [
    "properties_2017.to_csv('/Users/arsen/codeup-data-science/regression_exercises/properties_2017.csv')"
   ]
  },
  {
   "cell_type": "markdown",
   "id": "6cc73e68",
   "metadata": {},
   "source": [
    "# Cleaning"
   ]
  },
  {
   "cell_type": "code",
   "execution_count": 15,
   "id": "9d33f792",
   "metadata": {},
   "outputs": [
    {
     "name": "stdout",
     "output_type": "stream",
     "text": [
      "<class 'pandas.core.frame.DataFrame'>\n",
      "RangeIndex: 52442 entries, 0 to 52441\n",
      "Data columns (total 9 columns):\n",
      " #   Column                        Non-Null Count  Dtype  \n",
      "---  ------                        --------------  -----  \n",
      " 0   bedroomcnt                    52442 non-null  float64\n",
      " 1   bathroomcnt                   52442 non-null  float64\n",
      " 2   calculatedfinishedsquarefeet  52360 non-null  float64\n",
      " 3   taxvaluedollarcnt             52441 non-null  float64\n",
      " 4   yearbuilt                     52326 non-null  float64\n",
      " 5   taxamount                     52438 non-null  float64\n",
      " 6   fips                          52442 non-null  float64\n",
      " 7   propertylandusetypeid         52442 non-null  float64\n",
      " 8   transactiondate               52442 non-null  object \n",
      "dtypes: float64(8), object(1)\n",
      "memory usage: 3.6+ MB\n"
     ]
    }
   ],
   "source": [
    "# Looking for comments that could explain the columns\n",
    "\n",
    "properties_2017.info(verbose = True)"
   ]
  },
  {
   "cell_type": "code",
   "execution_count": 16,
   "id": "6fdcc00a",
   "metadata": {
    "scrolled": true
   },
   "outputs": [
    {
     "data": {
      "text/plain": [
       "bedroomcnt                        0\n",
       "bathroomcnt                       0\n",
       "calculatedfinishedsquarefeet     82\n",
       "taxvaluedollarcnt                 1\n",
       "yearbuilt                       116\n",
       "taxamount                         4\n",
       "fips                              0\n",
       "propertylandusetypeid             0\n",
       "transactiondate                   0\n",
       "dtype: int64"
      ]
     },
     "execution_count": 16,
     "metadata": {},
     "output_type": "execute_result"
    }
   ],
   "source": [
    "# Amount of nulls per columns\n",
    "\n",
    "properties_2017.isnull().sum()"
   ]
  },
  {
   "cell_type": "code",
   "execution_count": 17,
   "id": "bcf57711",
   "metadata": {
    "scrolled": true
   },
   "outputs": [
    {
     "data": {
      "text/plain": [
       "bedroomcnt                      0.0000\n",
       "bathroomcnt                     0.0000\n",
       "calculatedfinishedsquarefeet    0.0016\n",
       "taxvaluedollarcnt               0.0000\n",
       "yearbuilt                       0.0022\n",
       "taxamount                       0.0001\n",
       "fips                            0.0000\n",
       "propertylandusetypeid           0.0000\n",
       "transactiondate                 0.0000\n",
       "dtype: float64"
      ]
     },
     "execution_count": 17,
     "metadata": {},
     "output_type": "execute_result"
    }
   ],
   "source": [
    "# Getting the proportions of the missing value in the dataset\n",
    "\n",
    "round(properties_2017.isnull().mean(), 4)"
   ]
  },
  {
   "cell_type": "code",
   "execution_count": 18,
   "id": "ae9d78cd",
   "metadata": {
    "scrolled": false
   },
   "outputs": [
    {
     "data": {
      "text/html": [
       "<div>\n",
       "<style scoped>\n",
       "    .dataframe tbody tr th:only-of-type {\n",
       "        vertical-align: middle;\n",
       "    }\n",
       "\n",
       "    .dataframe tbody tr th {\n",
       "        vertical-align: top;\n",
       "    }\n",
       "\n",
       "    .dataframe thead th {\n",
       "        text-align: right;\n",
       "    }\n",
       "</style>\n",
       "<table border=\"1\" class=\"dataframe\">\n",
       "  <thead>\n",
       "    <tr style=\"text-align: right;\">\n",
       "      <th></th>\n",
       "      <th>taxvaluedollarcnt</th>\n",
       "      <th>taxamount</th>\n",
       "      <th>calculatedfinishedsquarefeet</th>\n",
       "    </tr>\n",
       "  </thead>\n",
       "  <tbody>\n",
       "    <tr>\n",
       "      <th>0</th>\n",
       "      <td>1023282.0</td>\n",
       "      <td>11013.72</td>\n",
       "      <td>3100.0</td>\n",
       "    </tr>\n",
       "    <tr>\n",
       "      <th>1</th>\n",
       "      <td>464000.0</td>\n",
       "      <td>5672.48</td>\n",
       "      <td>1465.0</td>\n",
       "    </tr>\n",
       "    <tr>\n",
       "      <th>2</th>\n",
       "      <td>564778.0</td>\n",
       "      <td>6488.30</td>\n",
       "      <td>1243.0</td>\n",
       "    </tr>\n",
       "    <tr>\n",
       "      <th>3</th>\n",
       "      <td>145143.0</td>\n",
       "      <td>1777.51</td>\n",
       "      <td>2376.0</td>\n",
       "    </tr>\n",
       "    <tr>\n",
       "      <th>4</th>\n",
       "      <td>773303.0</td>\n",
       "      <td>9516.26</td>\n",
       "      <td>2962.0</td>\n",
       "    </tr>\n",
       "    <tr>\n",
       "      <th>...</th>\n",
       "      <td>...</td>\n",
       "      <td>...</td>\n",
       "      <td>...</td>\n",
       "    </tr>\n",
       "    <tr>\n",
       "      <th>52437</th>\n",
       "      <td>354621.0</td>\n",
       "      <td>4478.43</td>\n",
       "      <td>1286.0</td>\n",
       "    </tr>\n",
       "    <tr>\n",
       "      <th>52438</th>\n",
       "      <td>67205.0</td>\n",
       "      <td>1107.48</td>\n",
       "      <td>1612.0</td>\n",
       "    </tr>\n",
       "    <tr>\n",
       "      <th>52439</th>\n",
       "      <td>49546.0</td>\n",
       "      <td>876.43</td>\n",
       "      <td>1032.0</td>\n",
       "    </tr>\n",
       "    <tr>\n",
       "      <th>52440</th>\n",
       "      <td>522000.0</td>\n",
       "      <td>6317.15</td>\n",
       "      <td>1762.0</td>\n",
       "    </tr>\n",
       "    <tr>\n",
       "      <th>52441</th>\n",
       "      <td>259334.0</td>\n",
       "      <td>3345.78</td>\n",
       "      <td>1050.0</td>\n",
       "    </tr>\n",
       "  </tbody>\n",
       "</table>\n",
       "<p>52442 rows × 3 columns</p>\n",
       "</div>"
      ],
      "text/plain": [
       "       taxvaluedollarcnt  taxamount  calculatedfinishedsquarefeet\n",
       "0              1023282.0   11013.72                        3100.0\n",
       "1               464000.0    5672.48                        1465.0\n",
       "2               564778.0    6488.30                        1243.0\n",
       "3               145143.0    1777.51                        2376.0\n",
       "4               773303.0    9516.26                        2962.0\n",
       "...                  ...        ...                           ...\n",
       "52437           354621.0    4478.43                        1286.0\n",
       "52438            67205.0    1107.48                        1612.0\n",
       "52439            49546.0     876.43                        1032.0\n",
       "52440           522000.0    6317.15                        1762.0\n",
       "52441           259334.0    3345.78                        1050.0\n",
       "\n",
       "[52442 rows x 3 columns]"
      ]
     },
     "execution_count": 18,
     "metadata": {},
     "output_type": "execute_result"
    }
   ],
   "source": [
    "# Printing the columns that have an obscure meaning to look at their content\n",
    "\n",
    "properties_2017[['taxvaluedollarcnt', 'taxamount', 'calculatedfinishedsquarefeet']]"
   ]
  },
  {
   "cell_type": "code",
   "execution_count": 49,
   "id": "fd4dfee1",
   "metadata": {
    "scrolled": true
   },
   "outputs": [
    {
     "data": {
      "text/plain": [
       "['bedroomcnt',\n",
       " 'bathroomcnt',\n",
       " 'calculatedfinishedsquarefeet',\n",
       " 'taxvaluedollarcnt',\n",
       " 'yearbuilt',\n",
       " 'taxamount',\n",
       " 'fips',\n",
       " 'propertylandusetypeid',\n",
       " 'transactiondate']"
      ]
     },
     "execution_count": 49,
     "metadata": {},
     "output_type": "execute_result"
    }
   ],
   "source": [
    "# Creating a list of the columns to have a better view of it\n",
    "\n",
    "properties_2017.columns.tolist()"
   ]
  },
  {
   "cell_type": "code",
   "execution_count": 41,
   "id": "684c8b3e",
   "metadata": {},
   "outputs": [
    {
     "data": {
      "text/plain": [
       "count          52442\n",
       "unique           258\n",
       "top       2017-06-30\n",
       "freq             810\n",
       "Name: transactiondate, dtype: object"
      ]
     },
     "execution_count": 41,
     "metadata": {},
     "output_type": "execute_result"
    }
   ],
   "source": [
    "# Checking the distribution of date and transaction related\n",
    "\n",
    "properties_2017['transactiondate'].describe()"
   ]
  },
  {
   "cell_type": "code",
   "execution_count": 38,
   "id": "ee45b028",
   "metadata": {
    "scrolled": false
   },
   "outputs": [
    {
     "data": {
      "image/png": "[encoded data removed]",
      "text/plain": [
       "<Figure size 1152x576 with 1 Axes>"
      ]
     },
     "metadata": {
      "needs_background": "light"
     },
     "output_type": "display_data"
    }
   ],
   "source": [
    "# Plotting a histogram to have a better biew\n",
    "\n",
    "plt.figure(figsize = (16, 8))\n",
    "\n",
    "properties_2017['transactiondate'].hist()\n",
    "plt.grid(True)\n",
    "plt.show()"
   ]
  },
  {
   "cell_type": "markdown",
   "id": "de227e90",
   "metadata": {},
   "source": [
    "## Takeaways\n",
    "\n",
    "<font color=\"brown\">**Based on the quick look on the data, I need to understand what each column means in order to handle them**</font>"
   ]
  },
  {
   "cell_type": "markdown",
   "id": "b33e49a2",
   "metadata": {},
   "source": [
    "**Description of columns**\n",
    "\n",
    "This gives a description of the dataset columns according to my understanding through examination of the dataset and online research.\n",
    "\n",
    "    - bedroomcnt: number of bedrooms\n",
    "    - bathroomcnt: number of bathrooms\n",
    "    - calculatedfinishedsquarefeet: size of the property in squarefeet\n",
    "    - taxvaluedollarcnt: the taxable value of a residential property is 100% of its \"market value\", basically, what it would sell for on the open market\n",
    "    - yearbuilt: the year the house was built\n",
    "    - taxamount: the tax to be paid or paid proportionally to the value of the house\n",
    "    - fips: Federal Information Processing System (number that uniquely identify geographic areas)\n",
    "    - Half bathrooms, include toilet and sink; however, unlike full baths, they do not have a bathtub or a shower\n",
    "    - 6037 in fips is Los Angeles county, CA\n",
    "    - 6059 in fips is Orange county, CA\n",
    "    - 6111 in fips is Ventura county, CA\n",
    "\n",
    "**Cleaning process**\n",
    "* Drop propertylandusetypeid, it is an identifier and will not affect the processing of the data\n",
    "* Renamed calculatedfinishedsquarefeet, taxvaluedollarcnt for better readability\n",
    "* Drop the null values. They account for < 0.004% of the entire dataset. They can be dropped without affecting modeling unless the percentage of rows they represent is too high (~ >= 10%, the table has 52442 entries)\n",
    "* Convert fips, yearbuilt, taxvalue, indoor_squarefeet, bedroomcnt from float to int64\n",
    "* There seems to be a lot of outliers as in the case of yearbuilt, calculatedfinishedsquarefeet, and taxvaluedollarcnt for instance. Plotting histograms could help figure out the distribution and outliers"
   ]
  },
  {
   "cell_type": "code",
   "execution_count": 44,
   "id": "a2d1d77d",
   "metadata": {
    "scrolled": true
   },
   "outputs": [
    {
     "name": "stdout",
     "output_type": "stream",
     "text": [
      "Properties_2017 length: 52442 \n",
      "Houses length: 52316 \n",
      "Percentage of rows with at least 1 NA value dropped:  0.24\n"
     ]
    }
   ],
   "source": [
    "# Dropping null values\n",
    "houses = properties_2017.dropna(axis = 0, how ='any')\n",
    "\n",
    "# Providing the proportion of dropped rows\n",
    "print(\"Properties_2017 length:\", len(properties_2017), \"\\nHouses length:\", \n",
    "       len(houses), \"\\nPercentage of rows with at least 1 NA value dropped: \",\n",
    "       round(((len(properties_2017)-len(houses))/len(properties_2017))*100, 2))"
   ]
  },
  {
   "cell_type": "code",
   "execution_count": 54,
   "id": "51926234",
   "metadata": {},
   "outputs": [
    {
     "data": {
      "text/plain": [
       "bedroomcnt                      0.0\n",
       "bathroomcnt                     0.0\n",
       "calculatedfinishedsquarefeet    0.0\n",
       "taxvaluedollarcnt               0.0\n",
       "yearbuilt                       0.0\n",
       "taxamount                       0.0\n",
       "fips                            0.0\n",
       "propertylandusetypeid           0.0\n",
       "transactiondate                 0.0\n",
       "dtype: float64"
      ]
     },
     "execution_count": 54,
     "metadata": {},
     "output_type": "execute_result"
    }
   ],
   "source": [
    "# A view of the new dataframe null values\n",
    "\n",
    "houses.isna().mean()"
   ]
  },
  {
   "cell_type": "code",
   "execution_count": 56,
   "id": "7e24d71b",
   "metadata": {},
   "outputs": [
    {
     "data": {
      "text/html": [
       "<div>\n",
       "<style scoped>\n",
       "    .dataframe tbody tr th:only-of-type {\n",
       "        vertical-align: middle;\n",
       "    }\n",
       "\n",
       "    .dataframe tbody tr th {\n",
       "        vertical-align: top;\n",
       "    }\n",
       "\n",
       "    .dataframe thead th {\n",
       "        text-align: right;\n",
       "    }\n",
       "</style>\n",
       "<table border=\"1\" class=\"dataframe\">\n",
       "  <thead>\n",
       "    <tr style=\"text-align: right;\">\n",
       "      <th></th>\n",
       "      <th>bedroomcnt</th>\n",
       "      <th>bathroomcnt</th>\n",
       "      <th>calculatedfinishedsquarefeet</th>\n",
       "      <th>taxvaluedollarcnt</th>\n",
       "      <th>yearbuilt</th>\n",
       "      <th>taxamount</th>\n",
       "      <th>fips</th>\n",
       "      <th>transactiondate</th>\n",
       "    </tr>\n",
       "  </thead>\n",
       "  <tbody>\n",
       "    <tr>\n",
       "      <th>0</th>\n",
       "      <td>4.0</td>\n",
       "      <td>3.5</td>\n",
       "      <td>3100.0</td>\n",
       "      <td>1023282.0</td>\n",
       "      <td>1998.0</td>\n",
       "      <td>11013.72</td>\n",
       "      <td>6059.0</td>\n",
       "      <td>2017-01-01</td>\n",
       "    </tr>\n",
       "    <tr>\n",
       "      <th>1</th>\n",
       "      <td>2.0</td>\n",
       "      <td>1.0</td>\n",
       "      <td>1465.0</td>\n",
       "      <td>464000.0</td>\n",
       "      <td>1967.0</td>\n",
       "      <td>5672.48</td>\n",
       "      <td>6111.0</td>\n",
       "      <td>2017-01-01</td>\n",
       "    </tr>\n",
       "    <tr>\n",
       "      <th>2</th>\n",
       "      <td>3.0</td>\n",
       "      <td>2.0</td>\n",
       "      <td>1243.0</td>\n",
       "      <td>564778.0</td>\n",
       "      <td>1962.0</td>\n",
       "      <td>6488.30</td>\n",
       "      <td>6059.0</td>\n",
       "      <td>2017-01-01</td>\n",
       "    </tr>\n",
       "    <tr>\n",
       "      <th>3</th>\n",
       "      <td>4.0</td>\n",
       "      <td>3.0</td>\n",
       "      <td>2376.0</td>\n",
       "      <td>145143.0</td>\n",
       "      <td>1970.0</td>\n",
       "      <td>1777.51</td>\n",
       "      <td>6037.0</td>\n",
       "      <td>2017-01-01</td>\n",
       "    </tr>\n",
       "    <tr>\n",
       "      <th>4</th>\n",
       "      <td>4.0</td>\n",
       "      <td>3.0</td>\n",
       "      <td>2962.0</td>\n",
       "      <td>773303.0</td>\n",
       "      <td>1950.0</td>\n",
       "      <td>9516.26</td>\n",
       "      <td>6037.0</td>\n",
       "      <td>2017-01-01</td>\n",
       "    </tr>\n",
       "  </tbody>\n",
       "</table>\n",
       "</div>"
      ],
      "text/plain": [
       "   bedroomcnt  bathroomcnt  calculatedfinishedsquarefeet  taxvaluedollarcnt  \\\n",
       "0         4.0          3.5                        3100.0          1023282.0   \n",
       "1         2.0          1.0                        1465.0           464000.0   \n",
       "2         3.0          2.0                        1243.0           564778.0   \n",
       "3         4.0          3.0                        2376.0           145143.0   \n",
       "4         4.0          3.0                        2962.0           773303.0   \n",
       "\n",
       "   yearbuilt  taxamount    fips transactiondate  \n",
       "0     1998.0   11013.72  6059.0      2017-01-01  \n",
       "1     1967.0    5672.48  6111.0      2017-01-01  \n",
       "2     1962.0    6488.30  6059.0      2017-01-01  \n",
       "3     1970.0    1777.51  6037.0      2017-01-01  \n",
       "4     1950.0    9516.26  6037.0      2017-01-01  "
      ]
     },
     "execution_count": 56,
     "metadata": {},
     "output_type": "execute_result"
    }
   ],
   "source": [
    "# Dropping a column\n",
    "\n",
    "houses = houses.drop(['propertylandusetypeid'], axis = 1)\n",
    "houses.head()"
   ]
  },
  {
   "cell_type": "code",
   "execution_count": 57,
   "id": "bcccd62d",
   "metadata": {},
   "outputs": [
    {
     "data": {
      "text/html": [
       "<div>\n",
       "<style scoped>\n",
       "    .dataframe tbody tr th:only-of-type {\n",
       "        vertical-align: middle;\n",
       "    }\n",
       "\n",
       "    .dataframe tbody tr th {\n",
       "        vertical-align: top;\n",
       "    }\n",
       "\n",
       "    .dataframe thead th {\n",
       "        text-align: right;\n",
       "    }\n",
       "</style>\n",
       "<table border=\"1\" class=\"dataframe\">\n",
       "  <thead>\n",
       "    <tr style=\"text-align: right;\">\n",
       "      <th></th>\n",
       "      <th>bedrooms</th>\n",
       "      <th>bathrooms</th>\n",
       "      <th>indoor_sqft</th>\n",
       "      <th>tax_value</th>\n",
       "      <th>yearbuilt</th>\n",
       "      <th>tax_amount</th>\n",
       "      <th>fips</th>\n",
       "      <th>sale_date</th>\n",
       "    </tr>\n",
       "  </thead>\n",
       "  <tbody>\n",
       "    <tr>\n",
       "      <th>0</th>\n",
       "      <td>4.0</td>\n",
       "      <td>3.5</td>\n",
       "      <td>3100.0</td>\n",
       "      <td>1023282.0</td>\n",
       "      <td>1998.0</td>\n",
       "      <td>11013.72</td>\n",
       "      <td>6059.0</td>\n",
       "      <td>2017-01-01</td>\n",
       "    </tr>\n",
       "    <tr>\n",
       "      <th>1</th>\n",
       "      <td>2.0</td>\n",
       "      <td>1.0</td>\n",
       "      <td>1465.0</td>\n",
       "      <td>464000.0</td>\n",
       "      <td>1967.0</td>\n",
       "      <td>5672.48</td>\n",
       "      <td>6111.0</td>\n",
       "      <td>2017-01-01</td>\n",
       "    </tr>\n",
       "    <tr>\n",
       "      <th>2</th>\n",
       "      <td>3.0</td>\n",
       "      <td>2.0</td>\n",
       "      <td>1243.0</td>\n",
       "      <td>564778.0</td>\n",
       "      <td>1962.0</td>\n",
       "      <td>6488.30</td>\n",
       "      <td>6059.0</td>\n",
       "      <td>2017-01-01</td>\n",
       "    </tr>\n",
       "    <tr>\n",
       "      <th>3</th>\n",
       "      <td>4.0</td>\n",
       "      <td>3.0</td>\n",
       "      <td>2376.0</td>\n",
       "      <td>145143.0</td>\n",
       "      <td>1970.0</td>\n",
       "      <td>1777.51</td>\n",
       "      <td>6037.0</td>\n",
       "      <td>2017-01-01</td>\n",
       "    </tr>\n",
       "    <tr>\n",
       "      <th>4</th>\n",
       "      <td>4.0</td>\n",
       "      <td>3.0</td>\n",
       "      <td>2962.0</td>\n",
       "      <td>773303.0</td>\n",
       "      <td>1950.0</td>\n",
       "      <td>9516.26</td>\n",
       "      <td>6037.0</td>\n",
       "      <td>2017-01-01</td>\n",
       "    </tr>\n",
       "  </tbody>\n",
       "</table>\n",
       "</div>"
      ],
      "text/plain": [
       "   bedrooms  bathrooms  indoor_sqft  tax_value  yearbuilt  tax_amount    fips  \\\n",
       "0       4.0        3.5       3100.0  1023282.0     1998.0    11013.72  6059.0   \n",
       "1       2.0        1.0       1465.0   464000.0     1967.0     5672.48  6111.0   \n",
       "2       3.0        2.0       1243.0   564778.0     1962.0     6488.30  6059.0   \n",
       "3       4.0        3.0       2376.0   145143.0     1970.0     1777.51  6037.0   \n",
       "4       4.0        3.0       2962.0   773303.0     1950.0     9516.26  6037.0   \n",
       "\n",
       "    sale_date  \n",
       "0  2017-01-01  \n",
       "1  2017-01-01  \n",
       "2  2017-01-01  \n",
       "3  2017-01-01  \n",
       "4  2017-01-01  "
      ]
     },
     "execution_count": 57,
     "metadata": {},
     "output_type": "execute_result"
    }
   ],
   "source": [
    "# Renaming columns using a dictionary\n",
    "\n",
    "cols_to_rename = {\n",
    "    'calculatedfinishedsquarefeet': 'indoor_sqft',\n",
    "    'taxvaluedollarcnt': 'tax_value',\n",
    "    'transactiondate': 'sale_date',\n",
    "    'bedroomcnt': 'bedrooms',\n",
    "    'bathroomcnt': 'bathrooms',\n",
    "    'taxamount': 'tax_amount',\n",
    "}\n",
    "\n",
    "houses = houses.rename(columns=cols_to_rename)\n",
    "houses.head()"
   ]
  },
  {
   "cell_type": "code",
   "execution_count": 58,
   "id": "73390657",
   "metadata": {
    "scrolled": true
   },
   "outputs": [
    {
     "data": {
      "text/html": [
       "<div>\n",
       "<style scoped>\n",
       "    .dataframe tbody tr th:only-of-type {\n",
       "        vertical-align: middle;\n",
       "    }\n",
       "\n",
       "    .dataframe tbody tr th {\n",
       "        vertical-align: top;\n",
       "    }\n",
       "\n",
       "    .dataframe thead th {\n",
       "        text-align: right;\n",
       "    }\n",
       "</style>\n",
       "<table border=\"1\" class=\"dataframe\">\n",
       "  <thead>\n",
       "    <tr style=\"text-align: right;\">\n",
       "      <th></th>\n",
       "      <th>count</th>\n",
       "      <th>mean</th>\n",
       "      <th>std</th>\n",
       "      <th>min</th>\n",
       "      <th>25%</th>\n",
       "      <th>50%</th>\n",
       "      <th>75%</th>\n",
       "      <th>max</th>\n",
       "    </tr>\n",
       "  </thead>\n",
       "  <tbody>\n",
       "    <tr>\n",
       "      <th>bedrooms</th>\n",
       "      <td>52316.0</td>\n",
       "      <td>3.305891</td>\n",
       "      <td>0.940592</td>\n",
       "      <td>0.00</td>\n",
       "      <td>3.0000</td>\n",
       "      <td>3.00</td>\n",
       "      <td>4.00</td>\n",
       "      <td>14.0</td>\n",
       "    </tr>\n",
       "    <tr>\n",
       "      <th>bathrooms</th>\n",
       "      <td>52316.0</td>\n",
       "      <td>2.302785</td>\n",
       "      <td>1.019072</td>\n",
       "      <td>0.00</td>\n",
       "      <td>2.0000</td>\n",
       "      <td>2.00</td>\n",
       "      <td>3.00</td>\n",
       "      <td>18.0</td>\n",
       "    </tr>\n",
       "    <tr>\n",
       "      <th>indoor_sqft</th>\n",
       "      <td>52316.0</td>\n",
       "      <td>1922.537235</td>\n",
       "      <td>1003.626719</td>\n",
       "      <td>128.00</td>\n",
       "      <td>1268.0000</td>\n",
       "      <td>1658.00</td>\n",
       "      <td>2305.00</td>\n",
       "      <td>21929.0</td>\n",
       "    </tr>\n",
       "    <tr>\n",
       "      <th>tax_value</th>\n",
       "      <td>52316.0</td>\n",
       "      <td>528039.682506</td>\n",
       "      <td>748451.355979</td>\n",
       "      <td>1000.00</td>\n",
       "      <td>193701.5000</td>\n",
       "      <td>373346.00</td>\n",
       "      <td>618615.00</td>\n",
       "      <td>49061236.0</td>\n",
       "    </tr>\n",
       "    <tr>\n",
       "      <th>yearbuilt</th>\n",
       "      <td>52316.0</td>\n",
       "      <td>1963.395634</td>\n",
       "      <td>23.133691</td>\n",
       "      <td>1878.00</td>\n",
       "      <td>1950.0000</td>\n",
       "      <td>1961.00</td>\n",
       "      <td>1979.00</td>\n",
       "      <td>2016.0</td>\n",
       "    </tr>\n",
       "    <tr>\n",
       "      <th>tax_amount</th>\n",
       "      <td>52316.0</td>\n",
       "      <td>6434.689275</td>\n",
       "      <td>8709.570842</td>\n",
       "      <td>49.18</td>\n",
       "      <td>2656.2025</td>\n",
       "      <td>4645.15</td>\n",
       "      <td>7371.53</td>\n",
       "      <td>586639.3</td>\n",
       "    </tr>\n",
       "    <tr>\n",
       "      <th>fips</th>\n",
       "      <td>52316.0</td>\n",
       "      <td>6049.086092</td>\n",
       "      <td>20.985064</td>\n",
       "      <td>6037.00</td>\n",
       "      <td>6037.0000</td>\n",
       "      <td>6037.00</td>\n",
       "      <td>6059.00</td>\n",
       "      <td>6111.0</td>\n",
       "    </tr>\n",
       "  </tbody>\n",
       "</table>\n",
       "</div>"
      ],
      "text/plain": [
       "               count           mean            std      min          25%  \\\n",
       "bedrooms     52316.0       3.305891       0.940592     0.00       3.0000   \n",
       "bathrooms    52316.0       2.302785       1.019072     0.00       2.0000   \n",
       "indoor_sqft  52316.0    1922.537235    1003.626719   128.00    1268.0000   \n",
       "tax_value    52316.0  528039.682506  748451.355979  1000.00  193701.5000   \n",
       "yearbuilt    52316.0    1963.395634      23.133691  1878.00    1950.0000   \n",
       "tax_amount   52316.0    6434.689275    8709.570842    49.18    2656.2025   \n",
       "fips         52316.0    6049.086092      20.985064  6037.00    6037.0000   \n",
       "\n",
       "                   50%        75%         max  \n",
       "bedrooms          3.00       4.00        14.0  \n",
       "bathrooms         2.00       3.00        18.0  \n",
       "indoor_sqft    1658.00    2305.00     21929.0  \n",
       "tax_value    373346.00  618615.00  49061236.0  \n",
       "yearbuilt      1961.00    1979.00      2016.0  \n",
       "tax_amount     4645.15    7371.53    586639.3  \n",
       "fips           6037.00    6059.00      6111.0  "
      ]
     },
     "execution_count": 58,
     "metadata": {},
     "output_type": "execute_result"
    }
   ],
   "source": [
    "# Checking the values to see if their proportions relate to each other in a meaningful way\n",
    "\n",
    "houses.describe().T"
   ]
  },
  {
   "cell_type": "code",
   "execution_count": 69,
   "id": "c3cd15aa",
   "metadata": {},
   "outputs": [
    {
     "data": {
      "text/plain": [
       "count          52316\n",
       "unique           258\n",
       "top       2017-06-30\n",
       "freq             807\n",
       "Name: sale_date, dtype: object"
      ]
     },
     "execution_count": 69,
     "metadata": {},
     "output_type": "execute_result"
    }
   ],
   "source": [
    "# Doing the same as previously but with the sale_date column\n",
    "\n",
    "houses['sale_date'].describe()"
   ]
  },
  {
   "cell_type": "code",
   "execution_count": 60,
   "id": "e5d31dff",
   "metadata": {
    "scrolled": true
   },
   "outputs": [
    {
     "data": {
      "text/html": [
       "<div>\n",
       "<style scoped>\n",
       "    .dataframe tbody tr th:only-of-type {\n",
       "        vertical-align: middle;\n",
       "    }\n",
       "\n",
       "    .dataframe tbody tr th {\n",
       "        vertical-align: top;\n",
       "    }\n",
       "\n",
       "    .dataframe thead th {\n",
       "        text-align: right;\n",
       "    }\n",
       "</style>\n",
       "<table border=\"1\" class=\"dataframe\">\n",
       "  <thead>\n",
       "    <tr style=\"text-align: right;\">\n",
       "      <th></th>\n",
       "      <th>bedrooms</th>\n",
       "      <th>bathrooms</th>\n",
       "      <th>indoor_sqft</th>\n",
       "      <th>tax_value</th>\n",
       "      <th>yearbuilt</th>\n",
       "      <th>tax_amount</th>\n",
       "      <th>fips</th>\n",
       "      <th>sale_date</th>\n",
       "    </tr>\n",
       "  </thead>\n",
       "  <tbody>\n",
       "    <tr>\n",
       "      <th>0</th>\n",
       "      <td>4</td>\n",
       "      <td>3.5</td>\n",
       "      <td>3100</td>\n",
       "      <td>1023282</td>\n",
       "      <td>1998</td>\n",
       "      <td>11013.72</td>\n",
       "      <td>6059</td>\n",
       "      <td>2017-01-01</td>\n",
       "    </tr>\n",
       "    <tr>\n",
       "      <th>1</th>\n",
       "      <td>2</td>\n",
       "      <td>1.0</td>\n",
       "      <td>1465</td>\n",
       "      <td>464000</td>\n",
       "      <td>1967</td>\n",
       "      <td>5672.48</td>\n",
       "      <td>6111</td>\n",
       "      <td>2017-01-01</td>\n",
       "    </tr>\n",
       "    <tr>\n",
       "      <th>2</th>\n",
       "      <td>3</td>\n",
       "      <td>2.0</td>\n",
       "      <td>1243</td>\n",
       "      <td>564778</td>\n",
       "      <td>1962</td>\n",
       "      <td>6488.30</td>\n",
       "      <td>6059</td>\n",
       "      <td>2017-01-01</td>\n",
       "    </tr>\n",
       "    <tr>\n",
       "      <th>3</th>\n",
       "      <td>4</td>\n",
       "      <td>3.0</td>\n",
       "      <td>2376</td>\n",
       "      <td>145143</td>\n",
       "      <td>1970</td>\n",
       "      <td>1777.51</td>\n",
       "      <td>6037</td>\n",
       "      <td>2017-01-01</td>\n",
       "    </tr>\n",
       "    <tr>\n",
       "      <th>4</th>\n",
       "      <td>4</td>\n",
       "      <td>3.0</td>\n",
       "      <td>2962</td>\n",
       "      <td>773303</td>\n",
       "      <td>1950</td>\n",
       "      <td>9516.26</td>\n",
       "      <td>6037</td>\n",
       "      <td>2017-01-01</td>\n",
       "    </tr>\n",
       "  </tbody>\n",
       "</table>\n",
       "</div>"
      ],
      "text/plain": [
       "   bedrooms  bathrooms  indoor_sqft  tax_value  yearbuilt  tax_amount  fips  \\\n",
       "0         4        3.5         3100    1023282       1998    11013.72  6059   \n",
       "1         2        1.0         1465     464000       1967     5672.48  6111   \n",
       "2         3        2.0         1243     564778       1962     6488.30  6059   \n",
       "3         4        3.0         2376     145143       1970     1777.51  6037   \n",
       "4         4        3.0         2962     773303       1950     9516.26  6037   \n",
       "\n",
       "    sale_date  \n",
       "0  2017-01-01  \n",
       "1  2017-01-01  \n",
       "2  2017-01-01  \n",
       "3  2017-01-01  \n",
       "4  2017-01-01  "
      ]
     },
     "execution_count": 60,
     "metadata": {},
     "output_type": "execute_result"
    }
   ],
   "source": [
    "# Converting the following columns to int\n",
    "\n",
    "houses['bedrooms'] = houses['bedrooms'].astype(int)\n",
    "houses['indoor_sqft'] = houses['indoor_sqft'].astype(int)\n",
    "houses['tax_value'] = houses['tax_value'].astype(int)\n",
    "houses['yearbuilt'] = houses['yearbuilt'].astype(int)\n",
    "houses['fips'] = houses['fips'].astype(int)\n",
    "\n",
    "houses.head()"
   ]
  },
  {
   "cell_type": "code",
   "execution_count": 61,
   "id": "faf126d4",
   "metadata": {
    "scrolled": true
   },
   "outputs": [
    {
     "data": {
      "text/plain": [
       "bedrooms         int64\n",
       "bathrooms      float64\n",
       "indoor_sqft      int64\n",
       "tax_value        int64\n",
       "yearbuilt        int64\n",
       "tax_amount     float64\n",
       "fips             int64\n",
       "sale_date       object\n",
       "dtype: object"
      ]
     },
     "execution_count": 61,
     "metadata": {},
     "output_type": "execute_result"
    }
   ],
   "source": [
    "houses.dtypes"
   ]
  },
  {
   "cell_type": "code",
   "execution_count": 66,
   "id": "2a1b1e5a",
   "metadata": {
    "scrolled": false
   },
   "outputs": [
    {
     "name": "stdout",
     "output_type": "stream",
     "text": [
      "bedrooms\n",
      "3     23347\n",
      "4     15226\n",
      "2      8333\n",
      "5      3970\n",
      "6       633\n",
      "1       605\n",
      "7       106\n",
      "0        57\n",
      "8        24\n",
      "9         8\n",
      "12        3\n",
      "10        2\n",
      "14        1\n",
      "11        1\n",
      "Name: bedrooms, dtype: int64\n",
      "\n",
      "##########################\n",
      "\n",
      "bathrooms\n",
      "2.0     21888\n",
      "3.0     10664\n",
      "1.0      9552\n",
      "2.5      3931\n",
      "4.0      2227\n",
      "3.5       913\n",
      "1.5       840\n",
      "5.0       803\n",
      "4.5       682\n",
      "6.0       322\n",
      "5.5       224\n",
      "7.0        88\n",
      "8.0        53\n",
      "6.5        47\n",
      "0.0        41\n",
      "7.5        16\n",
      "9.0        13\n",
      "10.0        5\n",
      "11.0        3\n",
      "8.5         2\n",
      "18.0        1\n",
      "13.0        1\n",
      "Name: bathrooms, dtype: int64\n",
      "\n",
      "##########################\n",
      "\n",
      "indoor_sqft\n",
      "1120    128\n",
      "1200    119\n",
      "1080    102\n",
      "1040     86\n",
      "936      86\n",
      "       ... \n",
      "4343      1\n",
      "4349      1\n",
      "4825      1\n",
      "6580      1\n",
      "5655      1\n",
      "Name: indoor_sqft, Length: 4720, dtype: int64\n",
      "\n",
      "##########################\n",
      "\n",
      "tax_value\n",
      "455000    34\n",
      "600000    30\n",
      "550000    24\n",
      "500000    24\n",
      "450000    24\n",
      "          ..\n",
      "209341     1\n",
      "203304     1\n",
      "497409     1\n",
      "421945     1\n",
      "49546      1\n",
      "Name: tax_value, Length: 38846, dtype: int64\n",
      "\n",
      "##########################\n",
      "\n",
      "yearbuilt\n",
      "1955    1898\n",
      "1950    1608\n",
      "1954    1517\n",
      "1953    1484\n",
      "1956    1387\n",
      "        ... \n",
      "1892       1\n",
      "1878       1\n",
      "1882       1\n",
      "1894       1\n",
      "1880       1\n",
      "Name: yearbuilt, Length: 133, dtype: int64\n",
      "\n",
      "##########################\n",
      "\n",
      "tax_amount\n",
      "345.72     4\n",
      "3760.56    3\n",
      "4085.34    3\n",
      "3406.33    3\n",
      "5801.93    3\n",
      "          ..\n",
      "4430.47    1\n",
      "2719.44    1\n",
      "4084.59    1\n",
      "3114.95    1\n",
      "6317.15    1\n",
      "Name: tax_amount, Length: 50722, dtype: int64\n",
      "\n",
      "##########################\n",
      "\n",
      "fips\n",
      "6037    33876\n",
      "6059    14082\n",
      "6111     4358\n",
      "Name: fips, dtype: int64\n",
      "\n",
      "##########################\n",
      "\n",
      "sale_date\n",
      "2017-06-30    807\n",
      "2017-04-28    615\n",
      "2017-05-31    563\n",
      "2017-07-28    545\n",
      "2017-08-31    528\n",
      "             ... \n",
      "2017-05-13      1\n",
      "2017-05-20      1\n",
      "2017-06-03      1\n",
      "2017-06-11      1\n",
      "2018-05-25      1\n",
      "Name: sale_date, Length: 258, dtype: int64\n",
      "\n",
      "##########################\n",
      "\n"
     ]
    }
   ],
   "source": [
    "for column in houses.columns:\n",
    "    print(column)\n",
    "    print(houses[column].value_counts())\n",
    "    print('\\n##########################\\n')"
   ]
  },
  {
   "cell_type": "code",
   "execution_count": 65,
   "id": "2a524de1",
   "metadata": {
    "scrolled": false
   },
   "outputs": [
    {
     "name": "stdout",
     "output_type": "stream",
     "text": [
      "bedrooms\n"
     ]
    },
    {
     "data": {
      "image/png": "[encoded data removed]",
      "text/plain": [
       "<Figure size 432x288 with 1 Axes>"
      ]
     },
     "metadata": {
      "needs_background": "light"
     },
     "output_type": "display_data"
    },
    {
     "name": "stdout",
     "output_type": "stream",
     "text": [
      "bathrooms\n"
     ]
    },
    {
     "data": {
      "image/png": "[encoded data removed]",
      "text/plain": [
       "<Figure size 432x288 with 1 Axes>"
      ]
     },
     "metadata": {
      "needs_background": "light"
     },
     "output_type": "display_data"
    },
    {
     "name": "stdout",
     "output_type": "stream",
     "text": [
      "indoor_sqft\n"
     ]
    },
    {
     "data": {
      "image/png": "[encoded data removed]",
      "text/plain": [
       "<Figure size 432x288 with 1 Axes>"
      ]
     },
     "metadata": {
      "needs_background": "light"
     },
     "output_type": "display_data"
    },
    {
     "name": "stdout",
     "output_type": "stream",
     "text": [
      "tax_value\n"
     ]
    },
    {
     "data": {
      "image/png": "[encoded data removed]",
      "text/plain": [
       "<Figure size 432x288 with 1 Axes>"
      ]
     },
     "metadata": {
      "needs_background": "light"
     },
     "output_type": "display_data"
    },
    {
     "name": "stdout",
     "output_type": "stream",
     "text": [
      "yearbuilt\n"
     ]
    },
    {
     "data": {
      "image/png": "[encoded data removed]",
      "text/plain": [
       "<Figure size 432x288 with 1 Axes>"
      ]
     },
     "metadata": {
      "needs_background": "light"
     },
     "output_type": "display_data"
    },
    {
     "name": "stdout",
     "output_type": "stream",
     "text": [
      "tax_amount\n"
     ]
    },
    {
     "data": {
      "image/png": "[encoded data removed]",
      "text/plain": [
       "<Figure size 432x288 with 1 Axes>"
      ]
     },
     "metadata": {
      "needs_background": "light"
     },
     "output_type": "display_data"
    },
    {
     "name": "stdout",
     "output_type": "stream",
     "text": [
      "fips\n"
     ]
    },
    {
     "data": {
      "image/png": "[encoded data removed]",
      "text/plain": [
       "<Figure size 432x288 with 1 Axes>"
      ]
     },
     "metadata": {
      "needs_background": "light"
     },
     "output_type": "display_data"
    },
    {
     "name": "stdout",
     "output_type": "stream",
     "text": [
      "sale_date\n"
     ]
    },
    {
     "data": {
      "image/png": "[encoded data removed]",
      "text/plain": [
       "<Figure size 432x288 with 1 Axes>"
      ]
     },
     "metadata": {
      "needs_background": "light"
     },
     "output_type": "display_data"
    }
   ],
   "source": [
    "for column in houses.columns:\n",
    "    print(column)\n",
    "    plt.title(column)\n",
    "    houses[column].hist()\n",
    "    plt.grid(True)\n",
    "    plt.show()"
   ]
  },
  {
   "cell_type": "code",
   "execution_count": 103,
   "id": "35496807",
   "metadata": {},
   "outputs": [
    {
     "data": {
      "image/png": "[encoded data removed]",
      "text/plain": [
       "<Figure size 2160x1080 with 1 Axes>"
      ]
     },
     "metadata": {
      "needs_background": "light"
     },
     "output_type": "display_data"
    }
   ],
   "source": [
    "# Plotting more individualized dates\n",
    "\n",
    "sns.displot(x='sale_date', data=houses, height=15, aspect=2)\n",
    "plt.title('sale_date')\n",
    "plt.show()"
   ]
  },
  {
   "cell_type": "code",
   "execution_count": 109,
   "id": "f82bb442",
   "metadata": {
    "scrolled": false
   },
   "outputs": [
    {
     "data": {
      "image/png": "[encoded data removed]",
      "text/plain": [
       "<Figure size 1224x720 with 1 Axes>"
      ]
     },
     "metadata": {
      "needs_background": "light"
     },
     "output_type": "display_data"
    }
   ],
   "source": [
    "# Create boxplots for all but sale_date\n",
    "\n",
    "plt.figure(figsize=(17,10))\n",
    "sns.boxplot(data=houses.drop(columns=['sale_date']))\n",
    "plt.show()"
   ]
  },
  {
   "cell_type": "code",
   "execution_count": 112,
   "id": "4cf495b4",
   "metadata": {},
   "outputs": [
    {
     "data": {
      "text/html": [
       "<div>\n",
       "<style scoped>\n",
       "    .dataframe tbody tr th:only-of-type {\n",
       "        vertical-align: middle;\n",
       "    }\n",
       "\n",
       "    .dataframe tbody tr th {\n",
       "        vertical-align: top;\n",
       "    }\n",
       "\n",
       "    .dataframe thead th {\n",
       "        text-align: right;\n",
       "    }\n",
       "</style>\n",
       "<table border=\"1\" class=\"dataframe\">\n",
       "  <thead>\n",
       "    <tr style=\"text-align: right;\">\n",
       "      <th></th>\n",
       "      <th>bedrooms</th>\n",
       "      <th>bathrooms</th>\n",
       "      <th>indoor_sqft</th>\n",
       "      <th>yearbuilt</th>\n",
       "      <th>tax_amount</th>\n",
       "      <th>fips</th>\n",
       "      <th>sale_date</th>\n",
       "    </tr>\n",
       "  </thead>\n",
       "  <tbody>\n",
       "    <tr>\n",
       "      <th>0</th>\n",
       "      <td>4</td>\n",
       "      <td>3.5</td>\n",
       "      <td>3100</td>\n",
       "      <td>1998</td>\n",
       "      <td>11013.72</td>\n",
       "      <td>6059</td>\n",
       "      <td>2017-01-01</td>\n",
       "    </tr>\n",
       "    <tr>\n",
       "      <th>1</th>\n",
       "      <td>2</td>\n",
       "      <td>1.0</td>\n",
       "      <td>1465</td>\n",
       "      <td>1967</td>\n",
       "      <td>5672.48</td>\n",
       "      <td>6111</td>\n",
       "      <td>2017-01-01</td>\n",
       "    </tr>\n",
       "    <tr>\n",
       "      <th>2</th>\n",
       "      <td>3</td>\n",
       "      <td>2.0</td>\n",
       "      <td>1243</td>\n",
       "      <td>1962</td>\n",
       "      <td>6488.30</td>\n",
       "      <td>6059</td>\n",
       "      <td>2017-01-01</td>\n",
       "    </tr>\n",
       "    <tr>\n",
       "      <th>3</th>\n",
       "      <td>4</td>\n",
       "      <td>3.0</td>\n",
       "      <td>2376</td>\n",
       "      <td>1970</td>\n",
       "      <td>1777.51</td>\n",
       "      <td>6037</td>\n",
       "      <td>2017-01-01</td>\n",
       "    </tr>\n",
       "    <tr>\n",
       "      <th>4</th>\n",
       "      <td>4</td>\n",
       "      <td>3.0</td>\n",
       "      <td>2962</td>\n",
       "      <td>1950</td>\n",
       "      <td>9516.26</td>\n",
       "      <td>6037</td>\n",
       "      <td>2017-01-01</td>\n",
       "    </tr>\n",
       "  </tbody>\n",
       "</table>\n",
       "</div>"
      ],
      "text/plain": [
       "   bedrooms  bathrooms  indoor_sqft  yearbuilt  tax_amount  fips   sale_date\n",
       "0         4        3.5         3100       1998    11013.72  6059  2017-01-01\n",
       "1         2        1.0         1465       1967     5672.48  6111  2017-01-01\n",
       "2         3        2.0         1243       1962     6488.30  6059  2017-01-01\n",
       "3         4        3.0         2376       1970     1777.51  6037  2017-01-01\n",
       "4         4        3.0         2962       1950     9516.26  6037  2017-01-01"
      ]
     },
     "execution_count": 112,
     "metadata": {},
     "output_type": "execute_result"
    }
   ],
   "source": [
    "boxplot_without_tax_value = houses.drop(columns=['tax_value'])\n",
    "boxplot_without_tax_value.head()"
   ]
  },
  {
   "cell_type": "code",
   "execution_count": 122,
   "id": "6f8ea1b0",
   "metadata": {},
   "outputs": [
    {
     "data": {
      "image/png": "[encoded data removed]",
      "text/plain": [
       "<Figure size 720x504 with 1 Axes>"
      ]
     },
     "metadata": {
      "needs_background": "light"
     },
     "output_type": "display_data"
    }
   ],
   "source": [
    "plt.figure(figsize=(10,7))\n",
    "sns.boxplot(data=houses.bedrooms)\n",
    "plt.show()"
   ]
  },
  {
   "cell_type": "code",
   "execution_count": 123,
   "id": "805f42fd",
   "metadata": {},
   "outputs": [
    {
     "data": {
      "image/png": "[encoded data removed]",
      "text/plain": [
       "<Figure size 720x504 with 1 Axes>"
      ]
     },
     "metadata": {
      "needs_background": "light"
     },
     "output_type": "display_data"
    }
   ],
   "source": [
    "plt.figure(figsize=(10,7))\n",
    "sns.boxplot(data=houses.bathrooms)\n",
    "plt.show()"
   ]
  },
  {
   "cell_type": "code",
   "execution_count": 124,
   "id": "d996aacd",
   "metadata": {
    "scrolled": false
   },
   "outputs": [
    {
     "data": {
      "image/png": "[encoded data removed]",
      "text/plain": [
       "<Figure size 720x504 with 1 Axes>"
      ]
     },
     "metadata": {
      "needs_background": "light"
     },
     "output_type": "display_data"
    }
   ],
   "source": [
    "plt.figure(figsize=(10,7))\n",
    "sns.boxplot(data=houses.indoor_sqft)\n",
    "plt.show()"
   ]
  },
  {
   "cell_type": "code",
   "execution_count": 125,
   "id": "f3ca8e35",
   "metadata": {},
   "outputs": [
    {
     "data": {
      "image/png": "[encoded data removed]",
      "text/plain": [
       "<Figure size 720x504 with 1 Axes>"
      ]
     },
     "metadata": {
      "needs_background": "light"
     },
     "output_type": "display_data"
    }
   ],
   "source": [
    "plt.figure(figsize=(10,7))\n",
    "sns.boxplot(data=houses.yearbuilt)\n",
    "plt.show()"
   ]
  },
  {
   "cell_type": "code",
   "execution_count": 126,
   "id": "c56dd21c",
   "metadata": {},
   "outputs": [
    {
     "data": {
      "image/png": "[encoded data removed]",
      "text/plain": [
       "<Figure size 720x504 with 1 Axes>"
      ]
     },
     "metadata": {
      "needs_background": "light"
     },
     "output_type": "display_data"
    }
   ],
   "source": [
    "plt.figure(figsize=(10,7))\n",
    "sns.boxplot(data=houses.tax_amount)\n",
    "plt.show()"
   ]
  },
  {
   "cell_type": "code",
   "execution_count": 127,
   "id": "7ff0b895",
   "metadata": {},
   "outputs": [
    {
     "data": {
      "image/png": "[encoded data removed]",
      "text/plain": [
       "<Figure size 720x504 with 1 Axes>"
      ]
     },
     "metadata": {
      "needs_background": "light"
     },
     "output_type": "display_data"
    }
   ],
   "source": [
    "plt.figure(figsize=(10,7))\n",
    "sns.boxplot(data=houses.fips)\n",
    "plt.show()"
   ]
  },
  {
   "cell_type": "code",
   "execution_count": 64,
   "id": "e788d740",
   "metadata": {
    "collapsed": true
   },
   "outputs": [
    {
     "ename": "ValueError",
     "evalue": "could not convert string to float: '2017-1'",
     "output_type": "error",
     "traceback": [
      "\u001b[0;31m---------------------------------------------------------------------------\u001b[0m",
      "\u001b[0;31mValueError\u001b[0m                                Traceback (most recent call last)",
      "\u001b[0;32m/var/folders/5k/zptdym41293159jft7y2b6cm0000gp/T/ipykernel_64443/80833620.py\u001b[0m in \u001b[0;36m<module>\u001b[0;34m\u001b[0m\n\u001b[1;32m      1\u001b[0m \u001b[0mcut_labels\u001b[0m \u001b[0;34m=\u001b[0m \u001b[0;34m[\u001b[0m\u001b[0;34m'jan'\u001b[0m\u001b[0;34m,\u001b[0m \u001b[0;34m'feb'\u001b[0m\u001b[0;34m,\u001b[0m \u001b[0;34m'mar'\u001b[0m\u001b[0;34m,\u001b[0m \u001b[0;34m'apr'\u001b[0m\u001b[0;34m,\u001b[0m \u001b[0;34m'may'\u001b[0m\u001b[0;34m,\u001b[0m \u001b[0;34m'jun'\u001b[0m\u001b[0;34m,\u001b[0m \u001b[0;34m'jul'\u001b[0m\u001b[0;34m,\u001b[0m \u001b[0;34m'aug'\u001b[0m\u001b[0;34m,\u001b[0m \u001b[0;34m'sept'\u001b[0m\u001b[0;34m,\u001b[0m \u001b[0;34m'after_sept'\u001b[0m\u001b[0;34m]\u001b[0m\u001b[0;34m\u001b[0m\u001b[0;34m\u001b[0m\u001b[0m\n\u001b[1;32m      2\u001b[0m \u001b[0mcut_bins\u001b[0m \u001b[0;34m=\u001b[0m \u001b[0;34m[\u001b[0m\u001b[0;34m'2017-1'\u001b[0m\u001b[0;34m,\u001b[0m \u001b[0;34m'2017-2'\u001b[0m\u001b[0;34m,\u001b[0m \u001b[0;34m'2017-3'\u001b[0m\u001b[0;34m,\u001b[0m \u001b[0;34m'2017-4'\u001b[0m\u001b[0;34m,\u001b[0m \u001b[0;34m'2017-5'\u001b[0m\u001b[0;34m,\u001b[0m \u001b[0;34m'2017-6'\u001b[0m\u001b[0;34m,\u001b[0m \u001b[0;34m'2017-7'\u001b[0m\u001b[0;34m,\u001b[0m \u001b[0;34m'2017-8'\u001b[0m\u001b[0;34m,\u001b[0m \u001b[0;34m'2017-9'\u001b[0m\u001b[0;34m]\u001b[0m\u001b[0;34m\u001b[0m\u001b[0;34m\u001b[0m\u001b[0m\n\u001b[0;32m----> 3\u001b[0;31m \u001b[0mhouses\u001b[0m\u001b[0;34m[\u001b[0m\u001b[0;34m'sale_date_bins'\u001b[0m\u001b[0;34m]\u001b[0m \u001b[0;34m=\u001b[0m \u001b[0mpd\u001b[0m\u001b[0;34m.\u001b[0m\u001b[0mcut\u001b[0m\u001b[0;34m(\u001b[0m\u001b[0mhouses\u001b[0m\u001b[0;34m[\u001b[0m\u001b[0;34m'sale_date'\u001b[0m\u001b[0;34m]\u001b[0m\u001b[0;34m,\u001b[0m \u001b[0mbins\u001b[0m\u001b[0;34m=\u001b[0m\u001b[0mcut_bins\u001b[0m\u001b[0;34m,\u001b[0m \u001b[0mlabels\u001b[0m\u001b[0;34m=\u001b[0m\u001b[0mcut_labels\u001b[0m\u001b[0;34m)\u001b[0m\u001b[0;34m\u001b[0m\u001b[0;34m\u001b[0m\u001b[0m\n\u001b[0m\u001b[1;32m      4\u001b[0m \u001b[0mhouses\u001b[0m\u001b[0;34m.\u001b[0m\u001b[0mhead\u001b[0m\u001b[0;34m(\u001b[0m\u001b[0;36m50\u001b[0m\u001b[0;34m)\u001b[0m\u001b[0;34m\u001b[0m\u001b[0;34m\u001b[0m\u001b[0m\n",
      "\u001b[0;32m/opt/homebrew/anaconda3/lib/python3.9/site-packages/pandas/core/reshape/tile.py\u001b[0m in \u001b[0;36mcut\u001b[0;34m(x, bins, right, labels, retbins, precision, include_lowest, duplicates, ordered)\u001b[0m\n\u001b[1;32m    282\u001b[0m \u001b[0;34m\u001b[0m\u001b[0m\n\u001b[1;32m    283\u001b[0m         \u001b[0;31m# GH 26045: cast to float64 to avoid an overflow\u001b[0m\u001b[0;34m\u001b[0m\u001b[0;34m\u001b[0m\u001b[0m\n\u001b[0;32m--> 284\u001b[0;31m         \u001b[0;32mif\u001b[0m \u001b[0;34m(\u001b[0m\u001b[0mnp\u001b[0m\u001b[0;34m.\u001b[0m\u001b[0mdiff\u001b[0m\u001b[0;34m(\u001b[0m\u001b[0mbins\u001b[0m\u001b[0;34m.\u001b[0m\u001b[0mastype\u001b[0m\u001b[0;34m(\u001b[0m\u001b[0;34m\"float64\"\u001b[0m\u001b[0;34m)\u001b[0m\u001b[0;34m)\u001b[0m \u001b[0;34m<\u001b[0m \u001b[0;36m0\u001b[0m\u001b[0;34m)\u001b[0m\u001b[0;34m.\u001b[0m\u001b[0many\u001b[0m\u001b[0;34m(\u001b[0m\u001b[0;34m)\u001b[0m\u001b[0;34m:\u001b[0m\u001b[0;34m\u001b[0m\u001b[0;34m\u001b[0m\u001b[0m\n\u001b[0m\u001b[1;32m    285\u001b[0m             \u001b[0;32mraise\u001b[0m \u001b[0mValueError\u001b[0m\u001b[0;34m(\u001b[0m\u001b[0;34m\"bins must increase monotonically.\"\u001b[0m\u001b[0;34m)\u001b[0m\u001b[0;34m\u001b[0m\u001b[0;34m\u001b[0m\u001b[0m\n\u001b[1;32m    286\u001b[0m \u001b[0;34m\u001b[0m\u001b[0m\n",
      "\u001b[0;31mValueError\u001b[0m: could not convert string to float: '2017-1'"
     ]
    }
   ],
   "source": [
    "cut_labels = ['jan', 'feb', 'mar', 'apr', 'may', 'jun', 'jul', 'aug', 'sept', 'after_sept']\n",
    "cut_bins = ['2017-1', '2017-2', '2017-3', '2017-4', '2017-5', '2017-6', '2017-7', '2017-8', '2017-9']\n",
    "houses['sale_date_bins'] = pd.cut(houses['sale_date'], bins=cut_bins, labels=cut_labels)\n",
    "houses.head(50)"
   ]
  },
  {
   "cell_type": "markdown",
   "id": "a8ddb9aa",
   "metadata": {},
   "source": [
    "## Takeaways\n",
    "* There are a lot of outliers for tax_value proportionally to the other columns\n",
    "* Each column contains in itself a lot of outliers\n",
    "* Yearbuilt and fips can be kept the way they are because their outliers bring more information about the potential price of a house than they disturb the homogeneity of the data (price of a very old house vs that of a new one, difference of price depending on county...)\n",
    "* 0 bedroom, 0 bathroom, and 1 squarefoot are not too significant (57 and 41 entries but it exist in real estate)\n",
    "* The tax_value outliers are not a problem because it is the target variable\n",
    "* After tax_value, tax_amount has the most outliers\n",
    "* Handle outliers in tax_amount, bedrooms, bathrooms, and indoor_sqft\n",
    "\n",
    "\n",
    "- My objective is to taget houses that are the closest to the average american house. For that I will:\n",
    "    * set the limits of bedrooms to 8\n",
    "    * set the limits of bathrooms to 8\n",
    "    * set the limit of indoor_sqft to 20_000 sqft\n",
    "    * set the limit of the tax_amount as a function of sqftage (to what tax_amount corresponds a house with indoor 20_000 sqft?)"
   ]
  },
  {
   "cell_type": "code",
   "execution_count": 140,
   "id": "b772488b",
   "metadata": {},
   "outputs": [
    {
     "data": {
      "text/plain": [
       "0.9997705150025817"
      ]
     },
     "execution_count": 140,
     "metadata": {},
     "output_type": "execute_result"
    }
   ],
   "source": [
    "# The proportion of houses that have 8 bedrooms and less\n",
    "\n",
    "houses[houses.bedrooms <= 8].shape[0] / houses.shape[0]"
   ]
  },
  {
   "cell_type": "code",
   "execution_count": 144,
   "id": "dd5dd06c",
   "metadata": {},
   "outputs": [
    {
     "data": {
      "text/plain": [
       "0.9986804612648448"
      ]
     },
     "execution_count": 144,
     "metadata": {},
     "output_type": "execute_result"
    }
   ],
   "source": [
    "# The proportion of houses that have 8 bathrooms and less\n",
    "\n",
    "houses[houses.bathrooms <= 7].shape[0] / houses.shape[0]"
   ]
  },
  {
   "cell_type": "code",
   "execution_count": 132,
   "id": "104b65cd",
   "metadata": {},
   "outputs": [
    {
     "data": {
      "text/plain": [
       "0.9999617707775824"
      ]
     },
     "execution_count": 132,
     "metadata": {},
     "output_type": "execute_result"
    }
   ],
   "source": [
    "# The proportion of houses that have 20_000 indoor_squarefeet and less\n",
    "\n",
    "houses[houses.indoor_sqft <= 20_000].shape[0] / houses.shape[0]"
   ]
  },
  {
   "cell_type": "code",
   "execution_count": 134,
   "id": "44345638",
   "metadata": {},
   "outputs": [
    {
     "data": {
      "text/plain": [
       "175444.95500000002"
      ]
     },
     "execution_count": 134,
     "metadata": {},
     "output_type": "execute_result"
    }
   ],
   "source": [
    "# Mean of tax value of houses corresponding to more than 20_000 sqft\n",
    "\n",
    "houses[houses.indoor_sqft > 20_000].tax_amount.mean()"
   ]
  },
  {
   "cell_type": "code",
   "execution_count": 136,
   "id": "e8deaede",
   "metadata": {},
   "outputs": [
    {
     "data": {
      "text/plain": [
       "0.9997323954430767"
      ]
     },
     "execution_count": 136,
     "metadata": {},
     "output_type": "execute_result"
    }
   ],
   "source": [
    "# The proportion of houses that have tax value <= 18893736\n",
    "\n",
    "houses[houses.tax_amount <= 175445].shape[0] / houses.shape[0]"
   ]
  },
  {
   "cell_type": "markdown",
   "id": "e4664c99",
   "metadata": {},
   "source": [
    "## Takeaways\n",
    "- The proportion obtained are still significant and won't denature the data\n",
    "- I will filter the data through 7 bathrooms criterion, its most restrictive one "
   ]
  },
  {
   "cell_type": "code",
   "execution_count": 145,
   "id": "636b9c1f",
   "metadata": {
    "scrolled": false
   },
   "outputs": [
    {
     "data": {
      "text/html": [
       "<div>\n",
       "<style scoped>\n",
       "    .dataframe tbody tr th:only-of-type {\n",
       "        vertical-align: middle;\n",
       "    }\n",
       "\n",
       "    .dataframe tbody tr th {\n",
       "        vertical-align: top;\n",
       "    }\n",
       "\n",
       "    .dataframe thead th {\n",
       "        text-align: right;\n",
       "    }\n",
       "</style>\n",
       "<table border=\"1\" class=\"dataframe\">\n",
       "  <thead>\n",
       "    <tr style=\"text-align: right;\">\n",
       "      <th></th>\n",
       "      <th>bedrooms</th>\n",
       "      <th>bathrooms</th>\n",
       "      <th>indoor_sqft</th>\n",
       "      <th>tax_value</th>\n",
       "      <th>yearbuilt</th>\n",
       "      <th>tax_amount</th>\n",
       "      <th>fips</th>\n",
       "      <th>sale_date</th>\n",
       "    </tr>\n",
       "  </thead>\n",
       "  <tbody>\n",
       "    <tr>\n",
       "      <th>0</th>\n",
       "      <td>4</td>\n",
       "      <td>3.5</td>\n",
       "      <td>3100</td>\n",
       "      <td>1023282</td>\n",
       "      <td>1998</td>\n",
       "      <td>11013.72</td>\n",
       "      <td>6059</td>\n",
       "      <td>2017-01-01</td>\n",
       "    </tr>\n",
       "    <tr>\n",
       "      <th>1</th>\n",
       "      <td>2</td>\n",
       "      <td>1.0</td>\n",
       "      <td>1465</td>\n",
       "      <td>464000</td>\n",
       "      <td>1967</td>\n",
       "      <td>5672.48</td>\n",
       "      <td>6111</td>\n",
       "      <td>2017-01-01</td>\n",
       "    </tr>\n",
       "    <tr>\n",
       "      <th>2</th>\n",
       "      <td>3</td>\n",
       "      <td>2.0</td>\n",
       "      <td>1243</td>\n",
       "      <td>564778</td>\n",
       "      <td>1962</td>\n",
       "      <td>6488.30</td>\n",
       "      <td>6059</td>\n",
       "      <td>2017-01-01</td>\n",
       "    </tr>\n",
       "    <tr>\n",
       "      <th>3</th>\n",
       "      <td>4</td>\n",
       "      <td>3.0</td>\n",
       "      <td>2376</td>\n",
       "      <td>145143</td>\n",
       "      <td>1970</td>\n",
       "      <td>1777.51</td>\n",
       "      <td>6037</td>\n",
       "      <td>2017-01-01</td>\n",
       "    </tr>\n",
       "    <tr>\n",
       "      <th>4</th>\n",
       "      <td>4</td>\n",
       "      <td>3.0</td>\n",
       "      <td>2962</td>\n",
       "      <td>773303</td>\n",
       "      <td>1950</td>\n",
       "      <td>9516.26</td>\n",
       "      <td>6037</td>\n",
       "      <td>2017-01-01</td>\n",
       "    </tr>\n",
       "    <tr>\n",
       "      <th>...</th>\n",
       "      <td>...</td>\n",
       "      <td>...</td>\n",
       "      <td>...</td>\n",
       "      <td>...</td>\n",
       "      <td>...</td>\n",
       "      <td>...</td>\n",
       "      <td>...</td>\n",
       "      <td>...</td>\n",
       "    </tr>\n",
       "    <tr>\n",
       "      <th>52437</th>\n",
       "      <td>2</td>\n",
       "      <td>2.0</td>\n",
       "      <td>1286</td>\n",
       "      <td>354621</td>\n",
       "      <td>1940</td>\n",
       "      <td>4478.43</td>\n",
       "      <td>6037</td>\n",
       "      <td>2017-09-20</td>\n",
       "    </tr>\n",
       "    <tr>\n",
       "      <th>52438</th>\n",
       "      <td>4</td>\n",
       "      <td>2.0</td>\n",
       "      <td>1612</td>\n",
       "      <td>67205</td>\n",
       "      <td>1964</td>\n",
       "      <td>1107.48</td>\n",
       "      <td>6111</td>\n",
       "      <td>2017-09-21</td>\n",
       "    </tr>\n",
       "    <tr>\n",
       "      <th>52439</th>\n",
       "      <td>3</td>\n",
       "      <td>1.0</td>\n",
       "      <td>1032</td>\n",
       "      <td>49546</td>\n",
       "      <td>1954</td>\n",
       "      <td>876.43</td>\n",
       "      <td>6037</td>\n",
       "      <td>2017-09-21</td>\n",
       "    </tr>\n",
       "    <tr>\n",
       "      <th>52440</th>\n",
       "      <td>3</td>\n",
       "      <td>2.0</td>\n",
       "      <td>1762</td>\n",
       "      <td>522000</td>\n",
       "      <td>1955</td>\n",
       "      <td>6317.15</td>\n",
       "      <td>6037</td>\n",
       "      <td>2017-09-25</td>\n",
       "    </tr>\n",
       "    <tr>\n",
       "      <th>52441</th>\n",
       "      <td>3</td>\n",
       "      <td>2.0</td>\n",
       "      <td>1050</td>\n",
       "      <td>259334</td>\n",
       "      <td>1960</td>\n",
       "      <td>3345.78</td>\n",
       "      <td>6037</td>\n",
       "      <td>2018-05-25</td>\n",
       "    </tr>\n",
       "  </tbody>\n",
       "</table>\n",
       "<p>52222 rows × 8 columns</p>\n",
       "</div>"
      ],
      "text/plain": [
       "       bedrooms  bathrooms  indoor_sqft  tax_value  yearbuilt  tax_amount  \\\n",
       "0             4        3.5         3100    1023282       1998    11013.72   \n",
       "1             2        1.0         1465     464000       1967     5672.48   \n",
       "2             3        2.0         1243     564778       1962     6488.30   \n",
       "3             4        3.0         2376     145143       1970     1777.51   \n",
       "4             4        3.0         2962     773303       1950     9516.26   \n",
       "...         ...        ...          ...        ...        ...         ...   \n",
       "52437         2        2.0         1286     354621       1940     4478.43   \n",
       "52438         4        2.0         1612      67205       1964     1107.48   \n",
       "52439         3        1.0         1032      49546       1954      876.43   \n",
       "52440         3        2.0         1762     522000       1955     6317.15   \n",
       "52441         3        2.0         1050     259334       1960     3345.78   \n",
       "\n",
       "       fips   sale_date  \n",
       "0      6059  2017-01-01  \n",
       "1      6111  2017-01-01  \n",
       "2      6059  2017-01-01  \n",
       "3      6037  2017-01-01  \n",
       "4      6037  2017-01-01  \n",
       "...     ...         ...  \n",
       "52437  6037  2017-09-20  \n",
       "52438  6111  2017-09-21  \n",
       "52439  6037  2017-09-21  \n",
       "52440  6037  2017-09-25  \n",
       "52441  6037  2018-05-25  \n",
       "\n",
       "[52222 rows x 8 columns]"
      ]
     },
     "execution_count": 145,
     "metadata": {},
     "output_type": "execute_result"
    }
   ],
   "source": [
    "# Filtering the data through number of bedrooms\n",
    "\n",
    "houses = houses[houses.bathrooms <= 7]\n",
    "houses"
   ]
  },
  {
   "cell_type": "code",
   "execution_count": null,
   "id": "aa8be82a",
   "metadata": {},
   "outputs": [],
   "source": [
    "# Compiling the code for wrangling data\n",
    "\n",
    "def get_connection(db, user=user, host=host, password=password):\n",
    "    '''\n",
    "    get_connection uses login info from env.py file to access Codeup db.\n",
    "    It takes in a string name of a database as an argument.\n",
    "    '''\n",
    "    return f'mysql+pymysql://{user}:{password}@{host}/{db}'\n",
    "\n",
    "\n",
    "def get_zillow_data():\n",
    "    '''\n",
    "    zillow_data() gets the zillow (only properties_2017 table) data from Codeup db, then writes it to a csv file,\n",
    "    and returns the df.\n",
    "    '''\n",
    "    # Creating a SQL query\n",
    "    sql_query = '''\n",
    "                SELECT \n",
    "                       bedroomcnt,\n",
    "                       bathroomcnt,\n",
    "                       calculatedfinishedsquarefeet,\n",
    "                       taxvaluedollarcnt,\n",
    "                       yearbuilt,\n",
    "                       taxamount,\n",
    "                       fips,\n",
    "                       propertylandusetypeid,\n",
    "                       transactiondate\n",
    "                FROM properties_2017\n",
    "                JOIN predictions_2017 USING(parcelid)\n",
    "                JOIN propertylandusetype USING(propertylandusetypeid)\n",
    "                WHERE propertylandusetypeid = '261'\n",
    "                '''\n",
    "    \n",
    "    # Reading in the DataFrame from Codeup db.\n",
    "    properties_2017 = pd.read_sql(sql_query, get_connection('zillow'))\n",
    "    return properties_2017\n",
    "\n",
    "def get_local_zillow():\n",
    "    '''\n",
    "    get_local_zillow reads in telco data from Codeup database, writes data to\n",
    "    a csv file if a local file does not exist, and returns a df.\n",
    "    '''\n",
    "    if os.path.isfile('properties_2017.csv'):\n",
    "        \n",
    "        # If csv file exists read in data from csv file.\n",
    "        properties_2017 = pd.read_csv('properties_2017.csv', index_col=0)\n",
    "        \n",
    "    else:\n",
    "        \n",
    "        # Read fresh data from db into a DataFrame\n",
    "        properties_2017 = get_zillow_data()\n",
    "        \n",
    "        # Cache data\n",
    "        properties_2017.to_csv('properties_2017.csv')\n",
    "        \n",
    "    return properties_2017\n",
    "\n",
    "\n",
    "# Dropping null values\n",
    "houses = properties_2017.dropna(axis = 0, how ='any')\n",
    "\n",
    "# Dropping a column\n",
    "houses = houses.drop(['propertylandusetypeid'], axis = 1)\n",
    "\n",
    "# Renaming columns\n",
    "cols_to_rename = {\n",
    "    'calculatedfinishedsquarefeet': 'indoor_sqft',\n",
    "    'taxvaluedollarcnt': 'tax_value',\n",
    "    'transactiondate': 'sale_date',\n",
    "    'bedroomcnt': 'bedrooms',\n",
    "    'bathroomcnt': 'bathrooms',\n",
    "    'taxamount': 'tax_amount',\n",
    "}\n",
    "\n",
    "houses = houses.rename(columns=cols_to_rename)\n",
    "\n",
    "# Converting the following columns to int\n",
    "houses['bedrooms'] = houses['bedrooms'].astype(int)\n",
    "houses['indoor_sqft'] = houses['indoor_sqft'].astype(int)\n",
    "houses['tax_value'] = houses['tax_value'].astype(int)\n",
    "houses['yearbuilt'] = houses['yearbuilt'].astype(int)\n",
    "houses['fips'] = houses['fips'].astype(int)\n",
    "\n",
    "\n",
    "# Filtering the data through number of bedrooms\n",
    "houses = houses[houses.bathrooms <= 7]"
   ]
  }
 ],
 "metadata": {
  "kernelspec": {
   "display_name": "Python 3 (ipykernel)",
   "language": "python",
   "name": "python3"
  },
  "language_info": {
   "codemirror_mode": {
    "name": "ipython",
    "version": 3
   },
   "file_extension": ".py",
   "mimetype": "text/x-python",
   "name": "python",
   "nbconvert_exporter": "python",
   "pygments_lexer": "ipython3",
   "version": "3.9.7"
  }
 },
 "nbformat": 4,
 "nbformat_minor": 5
}
