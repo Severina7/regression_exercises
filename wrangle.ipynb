{
 "cells": [
  {
   "cell_type": "code",
   "execution_count": 1,
   "id": "6856d4c5",
   "metadata": {},
   "outputs": [],
   "source": [
    "import pandas as pd\n",
    "import numpy as np\n",
    "import matplotlib.pyplot as plt\n",
    "import scipy.stats\n",
    "\n",
    "import os\n",
    "import acquire\n",
    "from env import host, user, password"
   ]
  },
  {
   "cell_type": "code",
   "execution_count": 2,
   "id": "949368d3",
   "metadata": {},
   "outputs": [],
   "source": [
    "import warnings\n",
    "warnings.filterwarnings('ignore')\n",
    "import seaborn as sns"
   ]
  },
  {
   "cell_type": "markdown",
   "id": "43f1d1b3",
   "metadata": {},
   "source": [
    "# <font color=“brown”>Goal</font>\n",
    "\n",
    "**My goal is to predict the values of single unit properties using the obervations from 2017 AKA the column  taxvaluedollarcnt rrenamed into TAXVALUE**"
   ]
  },
  {
   "cell_type": "markdown",
   "id": "359170bb",
   "metadata": {},
   "source": [
    "# Acquisition"
   ]
  },
  {
   "cell_type": "code",
   "execution_count": 3,
   "id": "2db2b2fe",
   "metadata": {},
   "outputs": [],
   "source": [
    "def get_connection(db, user=user, host=host, password=password):\n",
    "    '''\n",
    "    get_connection uses login info from env.py file to access Codeup db.\n",
    "    It takes in a string name of a database as an argument.\n",
    "    '''\n",
    "    return f'mysql+pymysql://{user}:{password}@{host}/{db}'"
   ]
  },
  {
   "cell_type": "markdown",
   "id": "5099ee65",
   "metadata": {},
   "source": [
    "**The columns I need**\n",
    "\n",
    "bedroomcnt, bathroomcnt, calculatedfinishedsquarefeet, taxvaluedollarcnt, yearbuilt, taxamount, fips, propertylandusetypeid"
   ]
  },
  {
   "cell_type": "code",
   "execution_count": 11,
   "id": "5be638d8",
   "metadata": {},
   "outputs": [],
   "source": [
    "def get_zillow_data():\n",
    "    '''\n",
    "    zillow_data() gets the zillow (only properties_2017 table) data from Codeup db, then writes it to a csv file,\n",
    "    and returns the df.\n",
    "    '''\n",
    "    # Creating a SQL query\n",
    "    sql_query = '''\n",
    "                SELECT \n",
    "                       bedroomcnt,\n",
    "                       bathroomcnt,\n",
    "                       calculatedfinishedsquarefeet,\n",
    "                       taxvaluedollarcnt,\n",
    "                       yearbuilt,\n",
    "                       taxamount,\n",
    "                       fips,\n",
    "                       propertylandusetypeid,\n",
    "                       transactiondate\n",
    "                FROM properties_2017\n",
    "                JOIN predictions_2017 USING(parcelid)\n",
    "                JOIN propertylandusetype USING(propertylandusetypeid)\n",
    "                WHERE propertylandusetypeid = '261'\n",
    "                '''\n",
    "    \n",
    "    # Reading in the DataFrame from Codeup db.\n",
    "    properties_2017 = pd.read_sql(sql_query, get_connection('zillow'))\n",
    "    return properties_2017"
   ]
  },
  {
   "cell_type": "code",
   "execution_count": 12,
   "id": "2d194e64",
   "metadata": {},
   "outputs": [],
   "source": [
    "def get_local_zillow():\n",
    "    '''\n",
    "    get_local_zillow reads in telco data from Codeup database, writes data to\n",
    "    a csv file if a local file does not exist, and returns a df.\n",
    "    '''\n",
    "    if os.path.isfile('properties_2017.csv'):\n",
    "        \n",
    "        # If csv file exists read in data from csv file.\n",
    "        properties_2017 = pd.read_csv('properties_2017.csv', index_col=0)\n",
    "        \n",
    "    else:\n",
    "        \n",
    "        # Read fresh data from db into a DataFrame\n",
    "        properties_2017 = get_zillow_data()\n",
    "        \n",
    "        # Cache data\n",
    "        properties_2017.to_csv('properties_2017.csv')\n",
    "        \n",
    "    return properties_2017"
   ]
  },
  {
   "cell_type": "code",
   "execution_count": 27,
   "id": "a33cab72",
   "metadata": {
    "scrolled": false
   },
   "outputs": [
    {
     "data": {
      "text/html": [
       "<div>\n",
       "<style scoped>\n",
       "    .dataframe tbody tr th:only-of-type {\n",
       "        vertical-align: middle;\n",
       "    }\n",
       "\n",
       "    .dataframe tbody tr th {\n",
       "        vertical-align: top;\n",
       "    }\n",
       "\n",
       "    .dataframe thead th {\n",
       "        text-align: right;\n",
       "    }\n",
       "</style>\n",
       "<table border=\"1\" class=\"dataframe\">\n",
       "  <thead>\n",
       "    <tr style=\"text-align: right;\">\n",
       "      <th></th>\n",
       "      <th>bedroomcnt</th>\n",
       "      <th>bathroomcnt</th>\n",
       "      <th>calculatedfinishedsquarefeet</th>\n",
       "      <th>taxvaluedollarcnt</th>\n",
       "      <th>yearbuilt</th>\n",
       "      <th>taxamount</th>\n",
       "      <th>fips</th>\n",
       "      <th>propertylandusetypeid</th>\n",
       "      <th>transactiondate</th>\n",
       "    </tr>\n",
       "  </thead>\n",
       "  <tbody>\n",
       "    <tr>\n",
       "      <th>0</th>\n",
       "      <td>4.0</td>\n",
       "      <td>3.5</td>\n",
       "      <td>3100.0</td>\n",
       "      <td>1023282.0</td>\n",
       "      <td>1998.0</td>\n",
       "      <td>11013.72</td>\n",
       "      <td>6059.0</td>\n",
       "      <td>261.0</td>\n",
       "      <td>2017-01-01</td>\n",
       "    </tr>\n",
       "    <tr>\n",
       "      <th>1</th>\n",
       "      <td>2.0</td>\n",
       "      <td>1.0</td>\n",
       "      <td>1465.0</td>\n",
       "      <td>464000.0</td>\n",
       "      <td>1967.0</td>\n",
       "      <td>5672.48</td>\n",
       "      <td>6111.0</td>\n",
       "      <td>261.0</td>\n",
       "      <td>2017-01-01</td>\n",
       "    </tr>\n",
       "    <tr>\n",
       "      <th>2</th>\n",
       "      <td>3.0</td>\n",
       "      <td>2.0</td>\n",
       "      <td>1243.0</td>\n",
       "      <td>564778.0</td>\n",
       "      <td>1962.0</td>\n",
       "      <td>6488.30</td>\n",
       "      <td>6059.0</td>\n",
       "      <td>261.0</td>\n",
       "      <td>2017-01-01</td>\n",
       "    </tr>\n",
       "    <tr>\n",
       "      <th>3</th>\n",
       "      <td>4.0</td>\n",
       "      <td>3.0</td>\n",
       "      <td>2376.0</td>\n",
       "      <td>145143.0</td>\n",
       "      <td>1970.0</td>\n",
       "      <td>1777.51</td>\n",
       "      <td>6037.0</td>\n",
       "      <td>261.0</td>\n",
       "      <td>2017-01-01</td>\n",
       "    </tr>\n",
       "    <tr>\n",
       "      <th>4</th>\n",
       "      <td>4.0</td>\n",
       "      <td>3.0</td>\n",
       "      <td>2962.0</td>\n",
       "      <td>773303.0</td>\n",
       "      <td>1950.0</td>\n",
       "      <td>9516.26</td>\n",
       "      <td>6037.0</td>\n",
       "      <td>261.0</td>\n",
       "      <td>2017-01-01</td>\n",
       "    </tr>\n",
       "    <tr>\n",
       "      <th>5</th>\n",
       "      <td>2.0</td>\n",
       "      <td>1.0</td>\n",
       "      <td>738.0</td>\n",
       "      <td>218552.0</td>\n",
       "      <td>1922.0</td>\n",
       "      <td>2366.08</td>\n",
       "      <td>6037.0</td>\n",
       "      <td>261.0</td>\n",
       "      <td>2017-01-01</td>\n",
       "    </tr>\n",
       "    <tr>\n",
       "      <th>6</th>\n",
       "      <td>4.0</td>\n",
       "      <td>3.0</td>\n",
       "      <td>3039.0</td>\n",
       "      <td>220583.0</td>\n",
       "      <td>1970.0</td>\n",
       "      <td>3104.19</td>\n",
       "      <td>6037.0</td>\n",
       "      <td>261.0</td>\n",
       "      <td>2017-01-02</td>\n",
       "    </tr>\n",
       "    <tr>\n",
       "      <th>7</th>\n",
       "      <td>4.0</td>\n",
       "      <td>3.0</td>\n",
       "      <td>2540.0</td>\n",
       "      <td>430108.0</td>\n",
       "      <td>1999.0</td>\n",
       "      <td>6103.36</td>\n",
       "      <td>6037.0</td>\n",
       "      <td>261.0</td>\n",
       "      <td>2017-01-02</td>\n",
       "    </tr>\n",
       "    <tr>\n",
       "      <th>8</th>\n",
       "      <td>3.0</td>\n",
       "      <td>2.5</td>\n",
       "      <td>1340.0</td>\n",
       "      <td>319668.0</td>\n",
       "      <td>1980.0</td>\n",
       "      <td>4078.08</td>\n",
       "      <td>6059.0</td>\n",
       "      <td>261.0</td>\n",
       "      <td>2017-01-02</td>\n",
       "    </tr>\n",
       "    <tr>\n",
       "      <th>9</th>\n",
       "      <td>3.0</td>\n",
       "      <td>2.5</td>\n",
       "      <td>1371.0</td>\n",
       "      <td>198054.0</td>\n",
       "      <td>2004.0</td>\n",
       "      <td>2204.84</td>\n",
       "      <td>6111.0</td>\n",
       "      <td>261.0</td>\n",
       "      <td>2017-01-02</td>\n",
       "    </tr>\n",
       "  </tbody>\n",
       "</table>\n",
       "</div>"
      ],
      "text/plain": [
       "   bedroomcnt  bathroomcnt  calculatedfinishedsquarefeet  taxvaluedollarcnt  \\\n",
       "0         4.0          3.5                        3100.0          1023282.0   \n",
       "1         2.0          1.0                        1465.0           464000.0   \n",
       "2         3.0          2.0                        1243.0           564778.0   \n",
       "3         4.0          3.0                        2376.0           145143.0   \n",
       "4         4.0          3.0                        2962.0           773303.0   \n",
       "5         2.0          1.0                         738.0           218552.0   \n",
       "6         4.0          3.0                        3039.0           220583.0   \n",
       "7         4.0          3.0                        2540.0           430108.0   \n",
       "8         3.0          2.5                        1340.0           319668.0   \n",
       "9         3.0          2.5                        1371.0           198054.0   \n",
       "\n",
       "   yearbuilt  taxamount    fips  propertylandusetypeid transactiondate  \n",
       "0     1998.0   11013.72  6059.0                  261.0      2017-01-01  \n",
       "1     1967.0    5672.48  6111.0                  261.0      2017-01-01  \n",
       "2     1962.0    6488.30  6059.0                  261.0      2017-01-01  \n",
       "3     1970.0    1777.51  6037.0                  261.0      2017-01-01  \n",
       "4     1950.0    9516.26  6037.0                  261.0      2017-01-01  \n",
       "5     1922.0    2366.08  6037.0                  261.0      2017-01-01  \n",
       "6     1970.0    3104.19  6037.0                  261.0      2017-01-02  \n",
       "7     1999.0    6103.36  6037.0                  261.0      2017-01-02  \n",
       "8     1980.0    4078.08  6059.0                  261.0      2017-01-02  \n",
       "9     2004.0    2204.84  6111.0                  261.0      2017-01-02  "
      ]
     },
     "execution_count": 27,
     "metadata": {},
     "output_type": "execute_result"
    }
   ],
   "source": [
    "# Getting a vue of the dataset\n",
    "\n",
    "properties_2017 = get_zillow_data()\n",
    "properties_2017.head(10)"
   ]
  },
  {
   "cell_type": "code",
   "execution_count": 14,
   "id": "2b772f9d",
   "metadata": {},
   "outputs": [],
   "source": [
    "properties_2017.to_csv('/Users/arsen/codeup-data-science/regression_exercises/properties_2017.csv')"
   ]
  },
  {
   "cell_type": "markdown",
   "id": "6cc73e68",
   "metadata": {},
   "source": [
    "# Cleaning"
   ]
  },
  {
   "cell_type": "code",
   "execution_count": 15,
   "id": "9d33f792",
   "metadata": {},
   "outputs": [
    {
     "name": "stdout",
     "output_type": "stream",
     "text": [
      "<class 'pandas.core.frame.DataFrame'>\n",
      "RangeIndex: 52442 entries, 0 to 52441\n",
      "Data columns (total 9 columns):\n",
      " #   Column                        Non-Null Count  Dtype  \n",
      "---  ------                        --------------  -----  \n",
      " 0   bedroomcnt                    52442 non-null  float64\n",
      " 1   bathroomcnt                   52442 non-null  float64\n",
      " 2   calculatedfinishedsquarefeet  52360 non-null  float64\n",
      " 3   taxvaluedollarcnt             52441 non-null  float64\n",
      " 4   yearbuilt                     52326 non-null  float64\n",
      " 5   taxamount                     52438 non-null  float64\n",
      " 6   fips                          52442 non-null  float64\n",
      " 7   propertylandusetypeid         52442 non-null  float64\n",
      " 8   transactiondate               52442 non-null  object \n",
      "dtypes: float64(8), object(1)\n",
      "memory usage: 3.6+ MB\n"
     ]
    }
   ],
   "source": [
    "# Looking for comments that could explain the columns\n",
    "\n",
    "properties_2017.info(verbose = True)"
   ]
  },
  {
   "cell_type": "code",
   "execution_count": 16,
   "id": "6fdcc00a",
   "metadata": {
    "scrolled": true
   },
   "outputs": [
    {
     "data": {
      "text/plain": [
       "bedroomcnt                        0\n",
       "bathroomcnt                       0\n",
       "calculatedfinishedsquarefeet     82\n",
       "taxvaluedollarcnt                 1\n",
       "yearbuilt                       116\n",
       "taxamount                         4\n",
       "fips                              0\n",
       "propertylandusetypeid             0\n",
       "transactiondate                   0\n",
       "dtype: int64"
      ]
     },
     "execution_count": 16,
     "metadata": {},
     "output_type": "execute_result"
    }
   ],
   "source": [
    "# Amount of nulls per columns\n",
    "\n",
    "properties_2017.isnull().sum()"
   ]
  },
  {
   "cell_type": "code",
   "execution_count": 17,
   "id": "bcf57711",
   "metadata": {
    "scrolled": true
   },
   "outputs": [
    {
     "data": {
      "text/plain": [
       "bedroomcnt                      0.0000\n",
       "bathroomcnt                     0.0000\n",
       "calculatedfinishedsquarefeet    0.0016\n",
       "taxvaluedollarcnt               0.0000\n",
       "yearbuilt                       0.0022\n",
       "taxamount                       0.0001\n",
       "fips                            0.0000\n",
       "propertylandusetypeid           0.0000\n",
       "transactiondate                 0.0000\n",
       "dtype: float64"
      ]
     },
     "execution_count": 17,
     "metadata": {},
     "output_type": "execute_result"
    }
   ],
   "source": [
    "# Getting the proportions of the missing value in the dataset\n",
    "\n",
    "round(properties_2017.isnull().mean(), 4)"
   ]
  },
  {
   "cell_type": "code",
   "execution_count": 18,
   "id": "ae9d78cd",
   "metadata": {
    "scrolled": false
   },
   "outputs": [
    {
     "data": {
      "text/html": [
       "<div>\n",
       "<style scoped>\n",
       "    .dataframe tbody tr th:only-of-type {\n",
       "        vertical-align: middle;\n",
       "    }\n",
       "\n",
       "    .dataframe tbody tr th {\n",
       "        vertical-align: top;\n",
       "    }\n",
       "\n",
       "    .dataframe thead th {\n",
       "        text-align: right;\n",
       "    }\n",
       "</style>\n",
       "<table border=\"1\" class=\"dataframe\">\n",
       "  <thead>\n",
       "    <tr style=\"text-align: right;\">\n",
       "      <th></th>\n",
       "      <th>taxvaluedollarcnt</th>\n",
       "      <th>taxamount</th>\n",
       "      <th>calculatedfinishedsquarefeet</th>\n",
       "    </tr>\n",
       "  </thead>\n",
       "  <tbody>\n",
       "    <tr>\n",
       "      <th>0</th>\n",
       "      <td>1023282.0</td>\n",
       "      <td>11013.72</td>\n",
       "      <td>3100.0</td>\n",
       "    </tr>\n",
       "    <tr>\n",
       "      <th>1</th>\n",
       "      <td>464000.0</td>\n",
       "      <td>5672.48</td>\n",
       "      <td>1465.0</td>\n",
       "    </tr>\n",
       "    <tr>\n",
       "      <th>2</th>\n",
       "      <td>564778.0</td>\n",
       "      <td>6488.30</td>\n",
       "      <td>1243.0</td>\n",
       "    </tr>\n",
       "    <tr>\n",
       "      <th>3</th>\n",
       "      <td>145143.0</td>\n",
       "      <td>1777.51</td>\n",
       "      <td>2376.0</td>\n",
       "    </tr>\n",
       "    <tr>\n",
       "      <th>4</th>\n",
       "      <td>773303.0</td>\n",
       "      <td>9516.26</td>\n",
       "      <td>2962.0</td>\n",
       "    </tr>\n",
       "    <tr>\n",
       "      <th>...</th>\n",
       "      <td>...</td>\n",
       "      <td>...</td>\n",
       "      <td>...</td>\n",
       "    </tr>\n",
       "    <tr>\n",
       "      <th>52437</th>\n",
       "      <td>354621.0</td>\n",
       "      <td>4478.43</td>\n",
       "      <td>1286.0</td>\n",
       "    </tr>\n",
       "    <tr>\n",
       "      <th>52438</th>\n",
       "      <td>67205.0</td>\n",
       "      <td>1107.48</td>\n",
       "      <td>1612.0</td>\n",
       "    </tr>\n",
       "    <tr>\n",
       "      <th>52439</th>\n",
       "      <td>49546.0</td>\n",
       "      <td>876.43</td>\n",
       "      <td>1032.0</td>\n",
       "    </tr>\n",
       "    <tr>\n",
       "      <th>52440</th>\n",
       "      <td>522000.0</td>\n",
       "      <td>6317.15</td>\n",
       "      <td>1762.0</td>\n",
       "    </tr>\n",
       "    <tr>\n",
       "      <th>52441</th>\n",
       "      <td>259334.0</td>\n",
       "      <td>3345.78</td>\n",
       "      <td>1050.0</td>\n",
       "    </tr>\n",
       "  </tbody>\n",
       "</table>\n",
       "<p>52442 rows × 3 columns</p>\n",
       "</div>"
      ],
      "text/plain": [
       "       taxvaluedollarcnt  taxamount  calculatedfinishedsquarefeet\n",
       "0              1023282.0   11013.72                        3100.0\n",
       "1               464000.0    5672.48                        1465.0\n",
       "2               564778.0    6488.30                        1243.0\n",
       "3               145143.0    1777.51                        2376.0\n",
       "4               773303.0    9516.26                        2962.0\n",
       "...                  ...        ...                           ...\n",
       "52437           354621.0    4478.43                        1286.0\n",
       "52438            67205.0    1107.48                        1612.0\n",
       "52439            49546.0     876.43                        1032.0\n",
       "52440           522000.0    6317.15                        1762.0\n",
       "52441           259334.0    3345.78                        1050.0\n",
       "\n",
       "[52442 rows x 3 columns]"
      ]
     },
     "execution_count": 18,
     "metadata": {},
     "output_type": "execute_result"
    }
   ],
   "source": [
    "# Printing the columns that have an obscure meaning to look at their content\n",
    "\n",
    "properties_2017[['taxvaluedollarcnt', 'taxamount', 'calculatedfinishedsquarefeet']]"
   ]
  },
  {
   "cell_type": "code",
   "execution_count": 49,
   "id": "55dcbeda",
   "metadata": {},
   "outputs": [
    {
     "data": {
      "text/plain": [
       "['bedroomcnt',\n",
       " 'bathroomcnt',\n",
       " 'calculatedfinishedsquarefeet',\n",
       " 'taxvaluedollarcnt',\n",
       " 'yearbuilt',\n",
       " 'taxamount',\n",
       " 'fips',\n",
       " 'propertylandusetypeid',\n",
       " 'transactiondate']"
      ]
     },
     "execution_count": 49,
     "metadata": {},
     "output_type": "execute_result"
    }
   ],
   "source": [
    "properties_2017.columns.tolist()"
   ]
  },
  {
   "cell_type": "code",
   "execution_count": 53,
   "id": "c8971136",
   "metadata": {
    "scrolled": false
   },
   "outputs": [
    {
     "name": "stdout",
     "output_type": "stream",
     "text": [
      "bedroomcnt\n",
      "3.0     23360\n",
      "4.0     15240\n",
      "2.0      8340\n",
      "5.0      3973\n",
      "6.0       635\n",
      "1.0       612\n",
      "0.0       137\n",
      "7.0       106\n",
      "8.0        24\n",
      "9.0         8\n",
      "12.0        3\n",
      "10.0        2\n",
      "14.0        1\n",
      "11.0        1\n",
      "Name: bedroomcnt, dtype: int64\n",
      "\n",
      "##########################\n",
      "\n",
      "bathroomcnt\n",
      "2.0     21894\n",
      "3.0     10673\n",
      "1.0      9568\n",
      "2.5      3934\n",
      "4.0      2227\n",
      "3.5       918\n",
      "1.5       841\n",
      "5.0       803\n",
      "4.5       687\n",
      "6.0       322\n",
      "5.5       224\n",
      "0.0       121\n",
      "7.0        88\n",
      "8.0        53\n",
      "6.5        47\n",
      "7.5        16\n",
      "9.0        13\n",
      "10.0        5\n",
      "11.0        3\n",
      "8.5         3\n",
      "18.0        1\n",
      "13.0        1\n",
      "Name: bathroomcnt, dtype: int64\n",
      "\n",
      "##########################\n",
      "\n",
      "calculatedfinishedsquarefeet\n",
      "1120.0    128\n",
      "1200.0    119\n",
      "1080.0    102\n",
      "1040.0     86\n",
      "936.0      86\n",
      "         ... \n",
      "7088.0      1\n",
      "604.0       1\n",
      "5422.0      1\n",
      "534.0       1\n",
      "5655.0      1\n",
      "Name: calculatedfinishedsquarefeet, Length: 4723, dtype: int64\n",
      "\n",
      "##########################\n",
      "\n",
      "taxvaluedollarcnt\n",
      "455000.0    34\n",
      "600000.0    30\n",
      "550000.0    24\n",
      "500000.0    24\n",
      "450000.0    24\n",
      "            ..\n",
      "209341.0     1\n",
      "203304.0     1\n",
      "497409.0     1\n",
      "421945.0     1\n",
      "49546.0      1\n",
      "Name: taxvaluedollarcnt, Length: 38942, dtype: int64\n",
      "\n",
      "##########################\n",
      "\n",
      "yearbuilt\n",
      "1955.0    1899\n",
      "1950.0    1608\n",
      "1954.0    1520\n",
      "1953.0    1485\n",
      "1956.0    1387\n",
      "          ... \n",
      "1892.0       1\n",
      "1878.0       1\n",
      "1882.0       1\n",
      "1894.0       1\n",
      "1880.0       1\n",
      "Name: yearbuilt, Length: 133, dtype: int64\n",
      "\n",
      "##########################\n",
      "\n",
      "taxamount\n",
      "345.72     4\n",
      "4042.46    3\n",
      "2182.12    3\n",
      "4251.80    3\n",
      "7210.68    3\n",
      "          ..\n",
      "3114.95    1\n",
      "4050.56    1\n",
      "4996.36    1\n",
      "683.35     1\n",
      "6317.15    1\n",
      "Name: taxamount, Length: 50834, dtype: int64\n",
      "\n",
      "##########################\n",
      "\n",
      "fips\n",
      "6037.0    33911\n",
      "6059.0    14136\n",
      "6111.0     4395\n",
      "Name: fips, dtype: int64\n",
      "\n",
      "##########################\n",
      "\n",
      "propertylandusetypeid\n",
      "261.0    52442\n",
      "Name: propertylandusetypeid, dtype: int64\n",
      "\n",
      "##########################\n",
      "\n",
      "transactiondate\n",
      "2017-06-30    810\n",
      "2017-04-28    617\n",
      "2017-05-31    566\n",
      "2017-07-28    546\n",
      "2017-08-31    528\n",
      "             ... \n",
      "2017-05-07      1\n",
      "2017-05-13      1\n",
      "2017-05-20      1\n",
      "2017-06-11      1\n",
      "2018-05-25      1\n",
      "Name: transactiondate, Length: 258, dtype: int64\n",
      "\n",
      "##########################\n",
      "\n"
     ]
    }
   ],
   "source": [
    "for column in properties_2017.columns:\n",
    "    print(column)\n",
    "    print(properties_2017[column].value_counts())\n",
    "    print('\\n##########################\\n')"
   ]
  },
  {
   "cell_type": "code",
   "execution_count": 19,
   "id": "398c93db",
   "metadata": {},
   "outputs": [
    {
     "data": {
      "text/plain": [
       "6037.0    33911\n",
       "6059.0    14136\n",
       "6111.0     4395\n",
       "Name: fips, dtype: int64"
      ]
     },
     "execution_count": 19,
     "metadata": {},
     "output_type": "execute_result"
    }
   ],
   "source": [
    "properties_2017.fips.value_counts()"
   ]
  },
  {
   "cell_type": "code",
   "execution_count": 20,
   "id": "4bb06b9a",
   "metadata": {},
   "outputs": [
    {
     "data": {
      "text/plain": [
       "1120.0    128\n",
       "1200.0    119\n",
       "1080.0    102\n",
       "1040.0     86\n",
       "936.0      86\n",
       "         ... \n",
       "7088.0      1\n",
       "604.0       1\n",
       "5422.0      1\n",
       "534.0       1\n",
       "5655.0      1\n",
       "Name: calculatedfinishedsquarefeet, Length: 4723, dtype: int64"
      ]
     },
     "execution_count": 20,
     "metadata": {},
     "output_type": "execute_result"
    }
   ],
   "source": [
    "properties_2017.calculatedfinishedsquarefeet.value_counts()"
   ]
  },
  {
   "cell_type": "code",
   "execution_count": 21,
   "id": "a7e88f85",
   "metadata": {},
   "outputs": [
    {
     "data": {
      "text/plain": [
       "1955.0    1899\n",
       "1950.0    1608\n",
       "1954.0    1520\n",
       "1953.0    1485\n",
       "1956.0    1387\n",
       "          ... \n",
       "1892.0       1\n",
       "1878.0       1\n",
       "1882.0       1\n",
       "1894.0       1\n",
       "1880.0       1\n",
       "Name: yearbuilt, Length: 133, dtype: int64"
      ]
     },
     "execution_count": 21,
     "metadata": {},
     "output_type": "execute_result"
    }
   ],
   "source": [
    "properties_2017.yearbuilt.value_counts()"
   ]
  },
  {
   "cell_type": "code",
   "execution_count": 22,
   "id": "a45b44de",
   "metadata": {},
   "outputs": [
    {
     "data": {
      "text/plain": [
       "455000.0    34\n",
       "600000.0    30\n",
       "550000.0    24\n",
       "500000.0    24\n",
       "450000.0    24\n",
       "            ..\n",
       "209341.0     1\n",
       "203304.0     1\n",
       "497409.0     1\n",
       "421945.0     1\n",
       "49546.0      1\n",
       "Name: taxvaluedollarcnt, Length: 38942, dtype: int64"
      ]
     },
     "execution_count": 22,
     "metadata": {},
     "output_type": "execute_result"
    }
   ],
   "source": [
    "properties_2017.taxvaluedollarcnt.value_counts()"
   ]
  },
  {
   "cell_type": "code",
   "execution_count": 23,
   "id": "82e58ac1",
   "metadata": {},
   "outputs": [
    {
     "data": {
      "text/plain": [
       "3.0     23360\n",
       "4.0     15240\n",
       "2.0      8340\n",
       "5.0      3973\n",
       "6.0       635\n",
       "1.0       612\n",
       "0.0       137\n",
       "7.0       106\n",
       "8.0        24\n",
       "9.0         8\n",
       "12.0        3\n",
       "10.0        2\n",
       "14.0        1\n",
       "11.0        1\n",
       "Name: bedroomcnt, dtype: int64"
      ]
     },
     "execution_count": 23,
     "metadata": {},
     "output_type": "execute_result"
    }
   ],
   "source": [
    "properties_2017.bedroomcnt.value_counts()"
   ]
  },
  {
   "cell_type": "code",
   "execution_count": 24,
   "id": "e1bbeb78",
   "metadata": {},
   "outputs": [
    {
     "data": {
      "text/plain": [
       "2.0     21894\n",
       "3.0     10673\n",
       "1.0      9568\n",
       "2.5      3934\n",
       "4.0      2227\n",
       "3.5       918\n",
       "1.5       841\n",
       "5.0       803\n",
       "4.5       687\n",
       "6.0       322\n",
       "5.5       224\n",
       "0.0       121\n",
       "7.0        88\n",
       "8.0        53\n",
       "6.5        47\n",
       "7.5        16\n",
       "9.0        13\n",
       "10.0        5\n",
       "11.0        3\n",
       "8.5         3\n",
       "18.0        1\n",
       "13.0        1\n",
       "Name: bathroomcnt, dtype: int64"
      ]
     },
     "execution_count": 24,
     "metadata": {},
     "output_type": "execute_result"
    }
   ],
   "source": [
    "properties_2017.bathroomcnt.value_counts()"
   ]
  },
  {
   "cell_type": "code",
   "execution_count": 25,
   "id": "7893b892",
   "metadata": {},
   "outputs": [
    {
     "data": {
      "text/plain": [
       "345.72     4\n",
       "4042.46    3\n",
       "2182.12    3\n",
       "4251.80    3\n",
       "7210.68    3\n",
       "          ..\n",
       "3114.95    1\n",
       "4050.56    1\n",
       "4996.36    1\n",
       "683.35     1\n",
       "6317.15    1\n",
       "Name: taxamount, Length: 50834, dtype: int64"
      ]
     },
     "execution_count": 25,
     "metadata": {},
     "output_type": "execute_result"
    }
   ],
   "source": [
    "properties_2017.taxamount.value_counts()"
   ]
  },
  {
   "cell_type": "code",
   "execution_count": 26,
   "id": "ce15a3df",
   "metadata": {
    "scrolled": false
   },
   "outputs": [
    {
     "data": {
      "text/plain": [
       "2017-06-30    810\n",
       "2017-04-28    617\n",
       "2017-05-31    566\n",
       "2017-07-28    546\n",
       "2017-08-31    528\n",
       "             ... \n",
       "2017-05-07      1\n",
       "2017-05-13      1\n",
       "2017-05-20      1\n",
       "2017-06-11      1\n",
       "2018-05-25      1\n",
       "Name: transactiondate, Length: 258, dtype: int64"
      ]
     },
     "execution_count": 26,
     "metadata": {},
     "output_type": "execute_result"
    }
   ],
   "source": [
    "properties_2017.transactiondate.value_counts()"
   ]
  },
  {
   "cell_type": "code",
   "execution_count": 41,
   "id": "97849057",
   "metadata": {},
   "outputs": [
    {
     "data": {
      "text/plain": [
       "count          52442\n",
       "unique           258\n",
       "top       2017-06-30\n",
       "freq             810\n",
       "Name: transactiondate, dtype: object"
      ]
     },
     "execution_count": 41,
     "metadata": {},
     "output_type": "execute_result"
    }
   ],
   "source": [
    "properties_2017['transactiondate'].describe()"
   ]
  },
  {
   "cell_type": "code",
   "execution_count": 38,
   "id": "d8e1d218",
   "metadata": {
    "scrolled": false
   },
   "outputs": [
    {
     "data": {
      "image/png": "[encoded data removed]",
      "text/plain": [
       "<Figure size 1152x576 with 1 Axes>"
      ]
     },
     "metadata": {
      "needs_background": "light"
     },
     "output_type": "display_data"
    }
   ],
   "source": [
    "plt.figure(figsize = (16, 8))\n",
    "\n",
    "properties_2017['transactiondate'].hist()\n",
    "plt.grid(True)\n",
    "plt.show()"
   ]
  },
  {
   "cell_type": "markdown",
   "id": "de227e90",
   "metadata": {},
   "source": [
    "## Takeaways\n",
    "\n",
    "<font color=\"brown\">**Based on the quick look on the data, I need to understand what each column means in order to handle them**</font>"
   ]
  },
  {
   "cell_type": "markdown",
   "id": "b33e49a2",
   "metadata": {},
   "source": [
    "**Description of columns**\n",
    "\n",
    "This gives a description of the dataset columns according to my understanding through examination of the dataset and online research.\n",
    "\n",
    "    - bedroomcnt: number of bedrooms\n",
    "    - bathroomcnt: number of bathrooms\n",
    "    - calculatedfinishedsquarefeet: size of the property in squarefeet\n",
    "    - taxvaluedollarcnt: the taxable value of a residential property is 100% of its \"market value\", basically, what it would sell for on the open market\n",
    "    - yearbuilt: the year the house was built\n",
    "    - taxamount: the tax to be paid or paid proportionally to the value of the house\n",
    "    - fips: Federal Information Processing System (number that uniquely identify geographic areas)\n",
    "    - Half bathrooms, include toilet and sink; however, unlike full baths, they do not have a bathtub or a shower\n",
    "    - 6037 in fips is Los Angeles county, CA\n",
    "    - 6059 in fips is Orange county, CA\n",
    "    - 6111 in fips is Ventura county, CA\n",
    "\n",
    "**Cleaning process**\n",
    "* Drop propertylandusetypeid, it is an identifier and will not affect the processing of the data\n",
    "* Renamed calculatedfinishedsquarefeet, taxvaluedollarcnt for better readability\n",
    "* Drop the null values. They account for 0.01% of the entire dataset. They can be dropped without affecting modeling unless the percentage of rows they represent is too high (~ >= 15%, the table has 2152863 entries)\n",
    "* Convert fips, yearbuilt, taxvalue, indoor_squarefeet, bedroomcnt from float to int64\n",
    "* There seems to be an enormous gap between the values which means a lot of outliers as in the case of yearbuilt, calculatedfinishedsquarefeet, and taxvaluedollarcnt for instance. Plotting histograms could help figure out the distribution and outliers\n",
    "* 0 bedroom, 0 bathroom, and 1 squarefoot are not too significant (13187 and 13027 entries but exist in real estate)\n",
    "* Convert transactiondate to a date type\n",
    "* Bin transactiondate"
   ]
  },
  {
   "cell_type": "code",
   "execution_count": 44,
   "id": "a2d1d77d",
   "metadata": {
    "scrolled": true
   },
   "outputs": [
    {
     "name": "stdout",
     "output_type": "stream",
     "text": [
      "Properties_2017 length: 52442 \n",
      "Houses length: 52316 \n",
      "Percentage of rows with at least 1 NA value dropped:  0.24\n"
     ]
    }
   ],
   "source": [
    "# Dropping null values\n",
    "houses = properties_2017.dropna(axis = 0, how ='any')\n",
    "\n",
    "# Providing the proportion of dropped rows\n",
    "print(\"Properties_2017 length:\", len(properties_2017), \"\\nHouses length:\", \n",
    "       len(houses), \"\\nPercentage of rows with at least 1 NA value dropped: \",\n",
    "       round(((len(properties_2017)-len(houses))/len(properties_2017))*100, 2))"
   ]
  },
  {
   "cell_type": "code",
   "execution_count": 19,
   "id": "51926234",
   "metadata": {},
   "outputs": [
    {
     "data": {
      "text/plain": [
       "bedroomcnt                      0.0\n",
       "bathroomcnt                     0.0\n",
       "calculatedfinishedsquarefeet    0.0\n",
       "taxvaluedollarcnt               0.0\n",
       "yearbuilt                       0.0\n",
       "taxamount                       0.0\n",
       "fips                            0.0\n",
       "propertylandusetypeid           0.0\n",
       "dtype: float64"
      ]
     },
     "execution_count": 19,
     "metadata": {},
     "output_type": "execute_result"
    }
   ],
   "source": [
    "# A view of the new dataframe\n",
    "\n",
    "houses.isna().mean()"
   ]
  },
  {
   "cell_type": "code",
   "execution_count": 20,
   "id": "7e24d71b",
   "metadata": {},
   "outputs": [
    {
     "data": {
      "text/html": [
       "<div>\n",
       "<style scoped>\n",
       "    .dataframe tbody tr th:only-of-type {\n",
       "        vertical-align: middle;\n",
       "    }\n",
       "\n",
       "    .dataframe tbody tr th {\n",
       "        vertical-align: top;\n",
       "    }\n",
       "\n",
       "    .dataframe thead th {\n",
       "        text-align: right;\n",
       "    }\n",
       "</style>\n",
       "<table border=\"1\" class=\"dataframe\">\n",
       "  <thead>\n",
       "    <tr style=\"text-align: right;\">\n",
       "      <th></th>\n",
       "      <th>bedroomcnt</th>\n",
       "      <th>bathroomcnt</th>\n",
       "      <th>calculatedfinishedsquarefeet</th>\n",
       "      <th>taxvaluedollarcnt</th>\n",
       "      <th>yearbuilt</th>\n",
       "      <th>taxamount</th>\n",
       "      <th>fips</th>\n",
       "    </tr>\n",
       "  </thead>\n",
       "  <tbody>\n",
       "    <tr>\n",
       "      <th>4</th>\n",
       "      <td>4.0</td>\n",
       "      <td>2.0</td>\n",
       "      <td>3633.0</td>\n",
       "      <td>296425.0</td>\n",
       "      <td>2005.0</td>\n",
       "      <td>6941.39</td>\n",
       "      <td>6037.0</td>\n",
       "    </tr>\n",
       "    <tr>\n",
       "      <th>6</th>\n",
       "      <td>3.0</td>\n",
       "      <td>4.0</td>\n",
       "      <td>1620.0</td>\n",
       "      <td>847770.0</td>\n",
       "      <td>2011.0</td>\n",
       "      <td>10244.94</td>\n",
       "      <td>6037.0</td>\n",
       "    </tr>\n",
       "    <tr>\n",
       "      <th>7</th>\n",
       "      <td>3.0</td>\n",
       "      <td>2.0</td>\n",
       "      <td>2077.0</td>\n",
       "      <td>646760.0</td>\n",
       "      <td>1926.0</td>\n",
       "      <td>7924.68</td>\n",
       "      <td>6037.0</td>\n",
       "    </tr>\n",
       "    <tr>\n",
       "      <th>11</th>\n",
       "      <td>0.0</td>\n",
       "      <td>0.0</td>\n",
       "      <td>1200.0</td>\n",
       "      <td>5328.0</td>\n",
       "      <td>1972.0</td>\n",
       "      <td>91.60</td>\n",
       "      <td>6037.0</td>\n",
       "    </tr>\n",
       "    <tr>\n",
       "      <th>14</th>\n",
       "      <td>0.0</td>\n",
       "      <td>0.0</td>\n",
       "      <td>171.0</td>\n",
       "      <td>6920.0</td>\n",
       "      <td>1973.0</td>\n",
       "      <td>255.17</td>\n",
       "      <td>6037.0</td>\n",
       "    </tr>\n",
       "  </tbody>\n",
       "</table>\n",
       "</div>"
      ],
      "text/plain": [
       "    bedroomcnt  bathroomcnt  calculatedfinishedsquarefeet  taxvaluedollarcnt  \\\n",
       "4          4.0          2.0                        3633.0           296425.0   \n",
       "6          3.0          4.0                        1620.0           847770.0   \n",
       "7          3.0          2.0                        2077.0           646760.0   \n",
       "11         0.0          0.0                        1200.0             5328.0   \n",
       "14         0.0          0.0                         171.0             6920.0   \n",
       "\n",
       "    yearbuilt  taxamount    fips  \n",
       "4      2005.0    6941.39  6037.0  \n",
       "6      2011.0   10244.94  6037.0  \n",
       "7      1926.0    7924.68  6037.0  \n",
       "11     1972.0      91.60  6037.0  \n",
       "14     1973.0     255.17  6037.0  "
      ]
     },
     "execution_count": 20,
     "metadata": {},
     "output_type": "execute_result"
    }
   ],
   "source": [
    "# Dropping a column\n",
    "\n",
    "houses = houses.drop(['propertylandusetypeid'], axis = 1)\n",
    "houses.head()"
   ]
  },
  {
   "cell_type": "code",
   "execution_count": 21,
   "id": "bcccd62d",
   "metadata": {},
   "outputs": [
    {
     "data": {
      "text/html": [
       "<div>\n",
       "<style scoped>\n",
       "    .dataframe tbody tr th:only-of-type {\n",
       "        vertical-align: middle;\n",
       "    }\n",
       "\n",
       "    .dataframe tbody tr th {\n",
       "        vertical-align: top;\n",
       "    }\n",
       "\n",
       "    .dataframe thead th {\n",
       "        text-align: right;\n",
       "    }\n",
       "</style>\n",
       "<table border=\"1\" class=\"dataframe\">\n",
       "  <thead>\n",
       "    <tr style=\"text-align: right;\">\n",
       "      <th></th>\n",
       "      <th>bedroomcnt</th>\n",
       "      <th>bathroomcnt</th>\n",
       "      <th>squarefeet</th>\n",
       "      <th>taxvalue</th>\n",
       "      <th>yearbuilt</th>\n",
       "      <th>taxamount</th>\n",
       "      <th>fips</th>\n",
       "    </tr>\n",
       "  </thead>\n",
       "  <tbody>\n",
       "    <tr>\n",
       "      <th>4</th>\n",
       "      <td>4.0</td>\n",
       "      <td>2.0</td>\n",
       "      <td>3633.0</td>\n",
       "      <td>296425.0</td>\n",
       "      <td>2005.0</td>\n",
       "      <td>6941.39</td>\n",
       "      <td>6037.0</td>\n",
       "    </tr>\n",
       "    <tr>\n",
       "      <th>6</th>\n",
       "      <td>3.0</td>\n",
       "      <td>4.0</td>\n",
       "      <td>1620.0</td>\n",
       "      <td>847770.0</td>\n",
       "      <td>2011.0</td>\n",
       "      <td>10244.94</td>\n",
       "      <td>6037.0</td>\n",
       "    </tr>\n",
       "    <tr>\n",
       "      <th>7</th>\n",
       "      <td>3.0</td>\n",
       "      <td>2.0</td>\n",
       "      <td>2077.0</td>\n",
       "      <td>646760.0</td>\n",
       "      <td>1926.0</td>\n",
       "      <td>7924.68</td>\n",
       "      <td>6037.0</td>\n",
       "    </tr>\n",
       "    <tr>\n",
       "      <th>11</th>\n",
       "      <td>0.0</td>\n",
       "      <td>0.0</td>\n",
       "      <td>1200.0</td>\n",
       "      <td>5328.0</td>\n",
       "      <td>1972.0</td>\n",
       "      <td>91.60</td>\n",
       "      <td>6037.0</td>\n",
       "    </tr>\n",
       "    <tr>\n",
       "      <th>14</th>\n",
       "      <td>0.0</td>\n",
       "      <td>0.0</td>\n",
       "      <td>171.0</td>\n",
       "      <td>6920.0</td>\n",
       "      <td>1973.0</td>\n",
       "      <td>255.17</td>\n",
       "      <td>6037.0</td>\n",
       "    </tr>\n",
       "  </tbody>\n",
       "</table>\n",
       "</div>"
      ],
      "text/plain": [
       "    bedroomcnt  bathroomcnt  squarefeet  taxvalue  yearbuilt  taxamount  \\\n",
       "4          4.0          2.0      3633.0  296425.0     2005.0    6941.39   \n",
       "6          3.0          4.0      1620.0  847770.0     2011.0   10244.94   \n",
       "7          3.0          2.0      2077.0  646760.0     1926.0    7924.68   \n",
       "11         0.0          0.0      1200.0    5328.0     1972.0      91.60   \n",
       "14         0.0          0.0       171.0    6920.0     1973.0     255.17   \n",
       "\n",
       "      fips  \n",
       "4   6037.0  \n",
       "6   6037.0  \n",
       "7   6037.0  \n",
       "11  6037.0  \n",
       "14  6037.0  "
      ]
     },
     "execution_count": 21,
     "metadata": {},
     "output_type": "execute_result"
    }
   ],
   "source": [
    "# Renaming columns using a dictionary\n",
    "cols_to_rename = {\n",
    "    'calculatedfinishedsquarefeet': 'squarefeet',\n",
    "    'taxvaluedollarcnt': 'taxvalue',\n",
    "    'transactiondate': 'sale_date'\n",
    "}\n",
    "\n",
    "houses = houses.rename(columns=cols_to_rename)\n",
    "houses.head()"
   ]
  },
  {
   "cell_type": "code",
   "execution_count": 22,
   "id": "73390657",
   "metadata": {
    "scrolled": true
   },
   "outputs": [
    {
     "data": {
      "text/html": [
       "<div>\n",
       "<style scoped>\n",
       "    .dataframe tbody tr th:only-of-type {\n",
       "        vertical-align: middle;\n",
       "    }\n",
       "\n",
       "    .dataframe tbody tr th {\n",
       "        vertical-align: top;\n",
       "    }\n",
       "\n",
       "    .dataframe thead th {\n",
       "        text-align: right;\n",
       "    }\n",
       "</style>\n",
       "<table border=\"1\" class=\"dataframe\">\n",
       "  <thead>\n",
       "    <tr style=\"text-align: right;\">\n",
       "      <th></th>\n",
       "      <th>count</th>\n",
       "      <th>mean</th>\n",
       "      <th>std</th>\n",
       "      <th>min</th>\n",
       "      <th>25%</th>\n",
       "      <th>50%</th>\n",
       "      <th>75%</th>\n",
       "      <th>max</th>\n",
       "    </tr>\n",
       "  </thead>\n",
       "  <tbody>\n",
       "    <tr>\n",
       "      <th>bedroomcnt</th>\n",
       "      <td>2140235.0</td>\n",
       "      <td>3.301419</td>\n",
       "      <td>0.932600</td>\n",
       "      <td>0.00</td>\n",
       "      <td>3.00</td>\n",
       "      <td>3.00</td>\n",
       "      <td>4.00</td>\n",
       "      <td>25.00</td>\n",
       "    </tr>\n",
       "    <tr>\n",
       "      <th>bathroomcnt</th>\n",
       "      <td>2140235.0</td>\n",
       "      <td>2.240352</td>\n",
       "      <td>0.990549</td>\n",
       "      <td>0.00</td>\n",
       "      <td>2.00</td>\n",
       "      <td>2.00</td>\n",
       "      <td>3.00</td>\n",
       "      <td>32.00</td>\n",
       "    </tr>\n",
       "    <tr>\n",
       "      <th>squarefeet</th>\n",
       "      <td>2140235.0</td>\n",
       "      <td>1863.193970</td>\n",
       "      <td>1221.754161</td>\n",
       "      <td>1.00</td>\n",
       "      <td>1258.00</td>\n",
       "      <td>1623.00</td>\n",
       "      <td>2208.00</td>\n",
       "      <td>952576.00</td>\n",
       "    </tr>\n",
       "    <tr>\n",
       "      <th>taxvalue</th>\n",
       "      <td>2140235.0</td>\n",
       "      <td>460641.625164</td>\n",
       "      <td>677157.635675</td>\n",
       "      <td>22.00</td>\n",
       "      <td>189166.00</td>\n",
       "      <td>328296.00</td>\n",
       "      <td>534606.00</td>\n",
       "      <td>90188462.00</td>\n",
       "    </tr>\n",
       "    <tr>\n",
       "      <th>yearbuilt</th>\n",
       "      <td>2140235.0</td>\n",
       "      <td>1960.967545</td>\n",
       "      <td>22.150563</td>\n",
       "      <td>1801.00</td>\n",
       "      <td>1949.00</td>\n",
       "      <td>1958.00</td>\n",
       "      <td>1976.00</td>\n",
       "      <td>2016.00</td>\n",
       "    </tr>\n",
       "    <tr>\n",
       "      <th>taxamount</th>\n",
       "      <td>2140235.0</td>\n",
       "      <td>5616.711322</td>\n",
       "      <td>7814.562798</td>\n",
       "      <td>6.34</td>\n",
       "      <td>2540.85</td>\n",
       "      <td>4111.47</td>\n",
       "      <td>6411.93</td>\n",
       "      <td>1078101.87</td>\n",
       "    </tr>\n",
       "    <tr>\n",
       "      <th>fips</th>\n",
       "      <td>2140235.0</td>\n",
       "      <td>6048.309556</td>\n",
       "      <td>20.344910</td>\n",
       "      <td>6037.00</td>\n",
       "      <td>6037.00</td>\n",
       "      <td>6037.00</td>\n",
       "      <td>6059.00</td>\n",
       "      <td>6111.00</td>\n",
       "    </tr>\n",
       "  </tbody>\n",
       "</table>\n",
       "</div>"
      ],
      "text/plain": [
       "                 count           mean            std      min        25%  \\\n",
       "bedroomcnt   2140235.0       3.301419       0.932600     0.00       3.00   \n",
       "bathroomcnt  2140235.0       2.240352       0.990549     0.00       2.00   \n",
       "squarefeet   2140235.0    1863.193970    1221.754161     1.00    1258.00   \n",
       "taxvalue     2140235.0  460641.625164  677157.635675    22.00  189166.00   \n",
       "yearbuilt    2140235.0    1960.967545      22.150563  1801.00    1949.00   \n",
       "taxamount    2140235.0    5616.711322    7814.562798     6.34    2540.85   \n",
       "fips         2140235.0    6048.309556      20.344910  6037.00    6037.00   \n",
       "\n",
       "                   50%        75%          max  \n",
       "bedroomcnt        3.00       4.00        25.00  \n",
       "bathroomcnt       2.00       3.00        32.00  \n",
       "squarefeet     1623.00    2208.00    952576.00  \n",
       "taxvalue     328296.00  534606.00  90188462.00  \n",
       "yearbuilt      1958.00    1976.00      2016.00  \n",
       "taxamount      4111.47    6411.93   1078101.87  \n",
       "fips           6037.00    6059.00      6111.00  "
      ]
     },
     "execution_count": 22,
     "metadata": {},
     "output_type": "execute_result"
    }
   ],
   "source": [
    "# Checking the values to see if their proportions relate to each other in a meaningful way\n",
    "\n",
    "houses.describe().T"
   ]
  },
  {
   "cell_type": "code",
   "execution_count": 23,
   "id": "b5c97889",
   "metadata": {},
   "outputs": [
    {
     "data": {
      "text/html": [
       "<div>\n",
       "<style scoped>\n",
       "    .dataframe tbody tr th:only-of-type {\n",
       "        vertical-align: middle;\n",
       "    }\n",
       "\n",
       "    .dataframe tbody tr th {\n",
       "        vertical-align: top;\n",
       "    }\n",
       "\n",
       "    .dataframe thead th {\n",
       "        text-align: right;\n",
       "    }\n",
       "</style>\n",
       "<table border=\"1\" class=\"dataframe\">\n",
       "  <thead>\n",
       "    <tr style=\"text-align: right;\">\n",
       "      <th></th>\n",
       "      <th>bedroomcnt</th>\n",
       "      <th>bathroomcnt</th>\n",
       "      <th>indoor_squarefeet</th>\n",
       "      <th>taxvalue</th>\n",
       "      <th>yearbuilt</th>\n",
       "      <th>taxamount</th>\n",
       "      <th>fips</th>\n",
       "    </tr>\n",
       "  </thead>\n",
       "  <tbody>\n",
       "    <tr>\n",
       "      <th>4</th>\n",
       "      <td>4.0</td>\n",
       "      <td>2.0</td>\n",
       "      <td>3633.0</td>\n",
       "      <td>296425.0</td>\n",
       "      <td>2005.0</td>\n",
       "      <td>6941.39</td>\n",
       "      <td>6037.0</td>\n",
       "    </tr>\n",
       "    <tr>\n",
       "      <th>6</th>\n",
       "      <td>3.0</td>\n",
       "      <td>4.0</td>\n",
       "      <td>1620.0</td>\n",
       "      <td>847770.0</td>\n",
       "      <td>2011.0</td>\n",
       "      <td>10244.94</td>\n",
       "      <td>6037.0</td>\n",
       "    </tr>\n",
       "    <tr>\n",
       "      <th>7</th>\n",
       "      <td>3.0</td>\n",
       "      <td>2.0</td>\n",
       "      <td>2077.0</td>\n",
       "      <td>646760.0</td>\n",
       "      <td>1926.0</td>\n",
       "      <td>7924.68</td>\n",
       "      <td>6037.0</td>\n",
       "    </tr>\n",
       "    <tr>\n",
       "      <th>11</th>\n",
       "      <td>0.0</td>\n",
       "      <td>0.0</td>\n",
       "      <td>1200.0</td>\n",
       "      <td>5328.0</td>\n",
       "      <td>1972.0</td>\n",
       "      <td>91.60</td>\n",
       "      <td>6037.0</td>\n",
       "    </tr>\n",
       "    <tr>\n",
       "      <th>14</th>\n",
       "      <td>0.0</td>\n",
       "      <td>0.0</td>\n",
       "      <td>171.0</td>\n",
       "      <td>6920.0</td>\n",
       "      <td>1973.0</td>\n",
       "      <td>255.17</td>\n",
       "      <td>6037.0</td>\n",
       "    </tr>\n",
       "  </tbody>\n",
       "</table>\n",
       "</div>"
      ],
      "text/plain": [
       "    bedroomcnt  bathroomcnt  indoor_squarefeet  taxvalue  yearbuilt  \\\n",
       "4          4.0          2.0             3633.0  296425.0     2005.0   \n",
       "6          3.0          4.0             1620.0  847770.0     2011.0   \n",
       "7          3.0          2.0             2077.0  646760.0     1926.0   \n",
       "11         0.0          0.0             1200.0    5328.0     1972.0   \n",
       "14         0.0          0.0              171.0    6920.0     1973.0   \n",
       "\n",
       "    taxamount    fips  \n",
       "4     6941.39  6037.0  \n",
       "6    10244.94  6037.0  \n",
       "7     7924.68  6037.0  \n",
       "11      91.60  6037.0  \n",
       "14     255.17  6037.0  "
      ]
     },
     "execution_count": 23,
     "metadata": {},
     "output_type": "execute_result"
    }
   ],
   "source": [
    "houses = houses.rename(columns={ 'squarefeet': 'indoor_squarefeet'}, errors='raise')\n",
    "houses.head()"
   ]
  },
  {
   "cell_type": "code",
   "execution_count": 24,
   "id": "e5d31dff",
   "metadata": {
    "scrolled": true
   },
   "outputs": [
    {
     "data": {
      "text/html": [
       "<div>\n",
       "<style scoped>\n",
       "    .dataframe tbody tr th:only-of-type {\n",
       "        vertical-align: middle;\n",
       "    }\n",
       "\n",
       "    .dataframe tbody tr th {\n",
       "        vertical-align: top;\n",
       "    }\n",
       "\n",
       "    .dataframe thead th {\n",
       "        text-align: right;\n",
       "    }\n",
       "</style>\n",
       "<table border=\"1\" class=\"dataframe\">\n",
       "  <thead>\n",
       "    <tr style=\"text-align: right;\">\n",
       "      <th></th>\n",
       "      <th>bedroomcnt</th>\n",
       "      <th>bathroomcnt</th>\n",
       "      <th>indoor_squarefeet</th>\n",
       "      <th>taxvalue</th>\n",
       "      <th>yearbuilt</th>\n",
       "      <th>taxamount</th>\n",
       "      <th>fips</th>\n",
       "    </tr>\n",
       "  </thead>\n",
       "  <tbody>\n",
       "    <tr>\n",
       "      <th>4</th>\n",
       "      <td>4</td>\n",
       "      <td>2.0</td>\n",
       "      <td>3633</td>\n",
       "      <td>296425</td>\n",
       "      <td>2005</td>\n",
       "      <td>6941.39</td>\n",
       "      <td>6037</td>\n",
       "    </tr>\n",
       "    <tr>\n",
       "      <th>6</th>\n",
       "      <td>3</td>\n",
       "      <td>4.0</td>\n",
       "      <td>1620</td>\n",
       "      <td>847770</td>\n",
       "      <td>2011</td>\n",
       "      <td>10244.94</td>\n",
       "      <td>6037</td>\n",
       "    </tr>\n",
       "    <tr>\n",
       "      <th>7</th>\n",
       "      <td>3</td>\n",
       "      <td>2.0</td>\n",
       "      <td>2077</td>\n",
       "      <td>646760</td>\n",
       "      <td>1926</td>\n",
       "      <td>7924.68</td>\n",
       "      <td>6037</td>\n",
       "    </tr>\n",
       "    <tr>\n",
       "      <th>11</th>\n",
       "      <td>0</td>\n",
       "      <td>0.0</td>\n",
       "      <td>1200</td>\n",
       "      <td>5328</td>\n",
       "      <td>1972</td>\n",
       "      <td>91.60</td>\n",
       "      <td>6037</td>\n",
       "    </tr>\n",
       "    <tr>\n",
       "      <th>14</th>\n",
       "      <td>0</td>\n",
       "      <td>0.0</td>\n",
       "      <td>171</td>\n",
       "      <td>6920</td>\n",
       "      <td>1973</td>\n",
       "      <td>255.17</td>\n",
       "      <td>6037</td>\n",
       "    </tr>\n",
       "  </tbody>\n",
       "</table>\n",
       "</div>"
      ],
      "text/plain": [
       "    bedroomcnt  bathroomcnt  indoor_squarefeet  taxvalue  yearbuilt  \\\n",
       "4            4          2.0               3633    296425       2005   \n",
       "6            3          4.0               1620    847770       2011   \n",
       "7            3          2.0               2077    646760       1926   \n",
       "11           0          0.0               1200      5328       1972   \n",
       "14           0          0.0                171      6920       1973   \n",
       "\n",
       "    taxamount  fips  \n",
       "4     6941.39  6037  \n",
       "6    10244.94  6037  \n",
       "7     7924.68  6037  \n",
       "11      91.60  6037  \n",
       "14     255.17  6037  "
      ]
     },
     "execution_count": 24,
     "metadata": {},
     "output_type": "execute_result"
    }
   ],
   "source": [
    "# Converting the following columns to int\n",
    "\n",
    "houses[\"bedroomcnt\"] = houses[\"bedroomcnt\"].astype(int)\n",
    "houses[\"indoor_squarefeet\"] = houses[\"indoor_squarefeet\"].astype(int)\n",
    "houses[\"taxvalue\"] = houses[\"taxvalue\"].astype(int)\n",
    "houses[\"yearbuilt\"] = houses[\"yearbuilt\"].astype(int)\n",
    "houses[\"fips\"] = houses[\"fips\"].astype(int)\n",
    "\n",
    "\n",
    "houses.head()"
   ]
  },
  {
   "cell_type": "code",
   "execution_count": null,
   "id": "e5dd5d3f",
   "metadata": {},
   "outputs": [],
   "source": [
    "pandas.cut(houses[sale_date], 10)"
   ]
  },
  {
   "cell_type": "code",
   "execution_count": 25,
   "id": "faf126d4",
   "metadata": {},
   "outputs": [
    {
     "data": {
      "text/plain": [
       "bedroomcnt             int64\n",
       "bathroomcnt          float64\n",
       "indoor_squarefeet      int64\n",
       "taxvalue               int64\n",
       "yearbuilt              int64\n",
       "taxamount            float64\n",
       "fips                   int64\n",
       "dtype: object"
      ]
     },
     "execution_count": 25,
     "metadata": {},
     "output_type": "execute_result"
    }
   ],
   "source": [
    "houses.dtypes"
   ]
  },
  {
   "cell_type": "code",
   "execution_count": 26,
   "id": "2a524de1",
   "metadata": {
    "scrolled": false
   },
   "outputs": [
    {
     "name": "stdout",
     "output_type": "stream",
     "text": [
      "bedroomcnt\n"
     ]
    },
    {
     "data": {
      "image/png": "[encoded data removed]",
      "text/plain": [
       "<Figure size 432x288 with 1 Axes>"
      ]
     },
     "metadata": {
      "needs_background": "light"
     },
     "output_type": "display_data"
    },
    {
     "name": "stdout",
     "output_type": "stream",
     "text": [
      "bathroomcnt\n"
     ]
    },
    {
     "data": {
      "image/png": "[encoded data removed]",
      "text/plain": [
       "<Figure size 432x288 with 1 Axes>"
      ]
     },
     "metadata": {
      "needs_background": "light"
     },
     "output_type": "display_data"
    },
    {
     "name": "stdout",
     "output_type": "stream",
     "text": [
      "indoor_squarefeet\n"
     ]
    },
    {
     "data": {
      "image/png": "[encoded data removed]",
      "text/plain": [
       "<Figure size 432x288 with 1 Axes>"
      ]
     },
     "metadata": {
      "needs_background": "light"
     },
     "output_type": "display_data"
    },
    {
     "name": "stdout",
     "output_type": "stream",
     "text": [
      "taxvalue\n"
     ]
    },
    {
     "data": {
      "image/png": "[encoded data removed]",
      "text/plain": [
       "<Figure size 432x288 with 1 Axes>"
      ]
     },
     "metadata": {
      "needs_background": "light"
     },
     "output_type": "display_data"
    },
    {
     "name": "stdout",
     "output_type": "stream",
     "text": [
      "yearbuilt\n"
     ]
    },
    {
     "data": {
      "image/png": "[encoded data removed]",
      "text/plain": [
       "<Figure size 432x288 with 1 Axes>"
      ]
     },
     "metadata": {
      "needs_background": "light"
     },
     "output_type": "display_data"
    },
    {
     "name": "stdout",
     "output_type": "stream",
     "text": [
      "taxamount\n"
     ]
    },
    {
     "data": {
      "image/png": "[encoded data removed]",
      "text/plain": [
       "<Figure size 432x288 with 1 Axes>"
      ]
     },
     "metadata": {
      "needs_background": "light"
     },
     "output_type": "display_data"
    },
    {
     "name": "stdout",
     "output_type": "stream",
     "text": [
      "fips\n"
     ]
    },
    {
     "data": {
      "image/png": "[encoded data removed]",
      "text/plain": [
       "<Figure size 432x288 with 1 Axes>"
      ]
     },
     "metadata": {
      "needs_background": "light"
     },
     "output_type": "display_data"
    }
   ],
   "source": [
    "for col in houses.columns:\n",
    "    print(col)\n",
    "    plt.title(col)\n",
    "    houses[col].hist()\n",
    "    plt.grid(True)\n",
    "    plt.show()"
   ]
  },
  {
   "cell_type": "markdown",
   "id": "a8ddb9aa",
   "metadata": {},
   "source": [
    "## Takeaways\n",
    "There are indeed a lot of outliers except for yearbuilt and fips\n",
    "* Set threshhold for outliers in (reference outliers shape in hist):\n",
    "    - bedroomcnt: 8\n",
    "    - bathroomcnt: 9\n",
    "    - indoor_squarefeet: arbitrary number of 20,000\n",
    "    - taxamount: associate to the corresponding indoor_squarefeet to see the proportion that is dropped\n",
    "* I'll evaluate if the size of the remaining data is significant or not"
   ]
  },
  {
   "cell_type": "code",
   "execution_count": 27,
   "id": "b772488b",
   "metadata": {},
   "outputs": [
    {
     "data": {
      "text/plain": [
       "0.9997724548939719"
      ]
     },
     "execution_count": 27,
     "metadata": {},
     "output_type": "execute_result"
    }
   ],
   "source": [
    "# The proportion of houses that have 8 bedrooms and less\n",
    "\n",
    "houses[houses.bedroomcnt <= 8].shape[0] / houses.shape[0]"
   ]
  },
  {
   "cell_type": "code",
   "execution_count": 28,
   "id": "dd5dd06c",
   "metadata": {},
   "outputs": [
    {
     "data": {
      "text/plain": [
       "0.9996612521522169"
      ]
     },
     "execution_count": 28,
     "metadata": {},
     "output_type": "execute_result"
    }
   ],
   "source": [
    "# The proportion of houses that have 8 bathrooms and less\n",
    "\n",
    "houses[houses.bathroomcnt <= 9].shape[0] / houses.shape[0]"
   ]
  },
  {
   "cell_type": "code",
   "execution_count": 29,
   "id": "104b65cd",
   "metadata": {},
   "outputs": [
    {
     "data": {
      "text/plain": [
       "0.9999551451125694"
      ]
     },
     "execution_count": 29,
     "metadata": {},
     "output_type": "execute_result"
    }
   ],
   "source": [
    "# The proportion of houses that have 20_000 indoor_squarefeet and less\n",
    "\n",
    "houses[houses.indoor_squarefeet <= 20_000].shape[0] / houses.shape[0]"
   ]
  },
  {
   "cell_type": "code",
   "execution_count": 30,
   "id": "44345638",
   "metadata": {},
   "outputs": [
    {
     "data": {
      "text/plain": [
       "231945.62822916664"
      ]
     },
     "execution_count": 30,
     "metadata": {},
     "output_type": "execute_result"
    }
   ],
   "source": [
    "# Mean of tax value of houses corresponding to more than 18_000 sqft\n",
    "\n",
    "houses[houses.indoor_squarefeet > 20_000].taxamount.mean()"
   ]
  },
  {
   "cell_type": "code",
   "execution_count": 31,
   "id": "e8deaede",
   "metadata": {},
   "outputs": [
    {
     "data": {
      "text/plain": [
       "0.9998981420264597"
      ]
     },
     "execution_count": 31,
     "metadata": {},
     "output_type": "execute_result"
    }
   ],
   "source": [
    "# The proportion of houses that have tax value <= 18893736\n",
    "\n",
    "houses[houses.taxamount <= 231946].shape[0] / houses.shape[0]"
   ]
  },
  {
   "cell_type": "markdown",
   "id": "e4664c99",
   "metadata": {},
   "source": [
    "## Takeaways\n",
    "- The proportion obtained are still significant and won't denature the data\n",
    "- I will filter the data through 8 bedrooms criterion its most restrictive one "
   ]
  },
  {
   "cell_type": "code",
   "execution_count": 33,
   "id": "636b9c1f",
   "metadata": {
    "scrolled": false
   },
   "outputs": [
    {
     "data": {
      "text/html": [
       "<div>\n",
       "<style scoped>\n",
       "    .dataframe tbody tr th:only-of-type {\n",
       "        vertical-align: middle;\n",
       "    }\n",
       "\n",
       "    .dataframe tbody tr th {\n",
       "        vertical-align: top;\n",
       "    }\n",
       "\n",
       "    .dataframe thead th {\n",
       "        text-align: right;\n",
       "    }\n",
       "</style>\n",
       "<table border=\"1\" class=\"dataframe\">\n",
       "  <thead>\n",
       "    <tr style=\"text-align: right;\">\n",
       "      <th></th>\n",
       "      <th>bedroomcnt</th>\n",
       "      <th>bathroomcnt</th>\n",
       "      <th>indoor_squarefeet</th>\n",
       "      <th>taxvalue</th>\n",
       "      <th>yearbuilt</th>\n",
       "      <th>taxamount</th>\n",
       "      <th>fips</th>\n",
       "    </tr>\n",
       "  </thead>\n",
       "  <tbody>\n",
       "    <tr>\n",
       "      <th>4</th>\n",
       "      <td>4</td>\n",
       "      <td>2.0</td>\n",
       "      <td>3633</td>\n",
       "      <td>296425</td>\n",
       "      <td>2005</td>\n",
       "      <td>6941.39</td>\n",
       "      <td>6037</td>\n",
       "    </tr>\n",
       "    <tr>\n",
       "      <th>6</th>\n",
       "      <td>3</td>\n",
       "      <td>4.0</td>\n",
       "      <td>1620</td>\n",
       "      <td>847770</td>\n",
       "      <td>2011</td>\n",
       "      <td>10244.94</td>\n",
       "      <td>6037</td>\n",
       "    </tr>\n",
       "    <tr>\n",
       "      <th>7</th>\n",
       "      <td>3</td>\n",
       "      <td>2.0</td>\n",
       "      <td>2077</td>\n",
       "      <td>646760</td>\n",
       "      <td>1926</td>\n",
       "      <td>7924.68</td>\n",
       "      <td>6037</td>\n",
       "    </tr>\n",
       "    <tr>\n",
       "      <th>11</th>\n",
       "      <td>0</td>\n",
       "      <td>0.0</td>\n",
       "      <td>1200</td>\n",
       "      <td>5328</td>\n",
       "      <td>1972</td>\n",
       "      <td>91.60</td>\n",
       "      <td>6037</td>\n",
       "    </tr>\n",
       "    <tr>\n",
       "      <th>14</th>\n",
       "      <td>0</td>\n",
       "      <td>0.0</td>\n",
       "      <td>171</td>\n",
       "      <td>6920</td>\n",
       "      <td>1973</td>\n",
       "      <td>255.17</td>\n",
       "      <td>6037</td>\n",
       "    </tr>\n",
       "    <tr>\n",
       "      <th>...</th>\n",
       "      <td>...</td>\n",
       "      <td>...</td>\n",
       "      <td>...</td>\n",
       "      <td>...</td>\n",
       "      <td>...</td>\n",
       "      <td>...</td>\n",
       "      <td>...</td>\n",
       "    </tr>\n",
       "    <tr>\n",
       "      <th>2152856</th>\n",
       "      <td>4</td>\n",
       "      <td>4.0</td>\n",
       "      <td>4375</td>\n",
       "      <td>422400</td>\n",
       "      <td>2015</td>\n",
       "      <td>13877.56</td>\n",
       "      <td>6037</td>\n",
       "    </tr>\n",
       "    <tr>\n",
       "      <th>2152858</th>\n",
       "      <td>4</td>\n",
       "      <td>3.0</td>\n",
       "      <td>2262</td>\n",
       "      <td>960756</td>\n",
       "      <td>2015</td>\n",
       "      <td>13494.52</td>\n",
       "      <td>6059</td>\n",
       "    </tr>\n",
       "    <tr>\n",
       "      <th>2152859</th>\n",
       "      <td>4</td>\n",
       "      <td>4.5</td>\n",
       "      <td>3127</td>\n",
       "      <td>536061</td>\n",
       "      <td>2014</td>\n",
       "      <td>6244.16</td>\n",
       "      <td>6059</td>\n",
       "    </tr>\n",
       "    <tr>\n",
       "      <th>2152861</th>\n",
       "      <td>3</td>\n",
       "      <td>2.5</td>\n",
       "      <td>1974</td>\n",
       "      <td>424353</td>\n",
       "      <td>2015</td>\n",
       "      <td>5302.70</td>\n",
       "      <td>6059</td>\n",
       "    </tr>\n",
       "    <tr>\n",
       "      <th>2152862</th>\n",
       "      <td>4</td>\n",
       "      <td>4.0</td>\n",
       "      <td>2110</td>\n",
       "      <td>554009</td>\n",
       "      <td>2014</td>\n",
       "      <td>6761.20</td>\n",
       "      <td>6037</td>\n",
       "    </tr>\n",
       "  </tbody>\n",
       "</table>\n",
       "<p>2139748 rows × 7 columns</p>\n",
       "</div>"
      ],
      "text/plain": [
       "         bedroomcnt  bathroomcnt  indoor_squarefeet  taxvalue  yearbuilt  \\\n",
       "4                 4          2.0               3633    296425       2005   \n",
       "6                 3          4.0               1620    847770       2011   \n",
       "7                 3          2.0               2077    646760       1926   \n",
       "11                0          0.0               1200      5328       1972   \n",
       "14                0          0.0                171      6920       1973   \n",
       "...             ...          ...                ...       ...        ...   \n",
       "2152856           4          4.0               4375    422400       2015   \n",
       "2152858           4          3.0               2262    960756       2015   \n",
       "2152859           4          4.5               3127    536061       2014   \n",
       "2152861           3          2.5               1974    424353       2015   \n",
       "2152862           4          4.0               2110    554009       2014   \n",
       "\n",
       "         taxamount  fips  \n",
       "4          6941.39  6037  \n",
       "6         10244.94  6037  \n",
       "7          7924.68  6037  \n",
       "11           91.60  6037  \n",
       "14          255.17  6037  \n",
       "...            ...   ...  \n",
       "2152856   13877.56  6037  \n",
       "2152858   13494.52  6059  \n",
       "2152859    6244.16  6059  \n",
       "2152861    5302.70  6059  \n",
       "2152862    6761.20  6037  \n",
       "\n",
       "[2139748 rows x 7 columns]"
      ]
     },
     "execution_count": 33,
     "metadata": {},
     "output_type": "execute_result"
    }
   ],
   "source": [
    "# Filtering the data through number of bedrooms\n",
    "\n",
    "houses = houses[houses.bedroomcnt <= 8]\n",
    "houses"
   ]
  },
  {
   "cell_type": "code",
   "execution_count": null,
   "id": "aa8be82a",
   "metadata": {},
   "outputs": [],
   "source": [
    "# Compiling the code for preparing my data\n",
    "\n",
    "# Dropping null values\n",
    "houses = properties_2017.dropna(axis = 0, how ='any')\n",
    "\n",
    "# Dropping a column\n",
    "houses = houses.drop(['propertylandusetypeid'], axis = 1)\n",
    "\n",
    "# Renaming columns\n",
    "cols_to_rename = {\n",
    "    'calculatedfinishedsquarefeet': 'indoor_squarefeet',\n",
    "    'taxvaluedollarcnt': 'taxvalue',\n",
    "}\n",
    "\n",
    "houses = houses.rename(columns=cols_to_rename)\n",
    "\n",
    "# Converting the following columns to int\n",
    "houses[\"bedroomcnt\"] = houses[\"bedroomcnt\"].astype(int)\n",
    "houses[\"indoor_squarefeet\"] = houses[\"indoor_squarefeet\"].astype(int)\n",
    "houses[\"taxvalue\"] = houses[\"taxvalue\"].astype(int)\n",
    "houses[\"yearbuilt\"] = houses[\"yearbuilt\"].astype(int)\n",
    "houses[\"fips\"] = houses[\"fips\"].astype(int)\n",
    "\n",
    "# Filtering the data through number of bedrooms\n",
    "houses = houses[houses.bedroomcnt <= 8]\n",
    "houses"
   ]
  }
 ],
 "metadata": {
  "kernelspec": {
   "display_name": "Python 3 (ipykernel)",
   "language": "python",
   "name": "python3"
  },
  "language_info": {
   "codemirror_mode": {
    "name": "ipython",
    "version": 3
   },
   "file_extension": ".py",
   "mimetype": "text/x-python",
   "name": "python",
   "nbconvert_exporter": "python",
   "pygments_lexer": "ipython3",
   "version": "3.9.7"
  }
 },
 "nbformat": 4,
 "nbformat_minor": 5
}
